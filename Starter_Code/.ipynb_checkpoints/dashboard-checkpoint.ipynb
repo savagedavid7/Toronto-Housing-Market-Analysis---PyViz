{
 "cells": [
  {
   "cell_type": "markdown",
   "metadata": {},
   "source": [
    "# Toronto Dwellings Analysis Dashboard\n",
    "\n",
    "In this notebook, you will compile the visualizations from the previous analysis into functions to create a Panel dashboard."
   ]
  },
  {
   "cell_type": "code",
   "execution_count": 2,
   "metadata": {},
   "outputs": [],
   "source": [
    "# initial imports\n",
    "import os\n",
    "import pandas as pd\n",
    "import numpy as np\n",
    "import panel as pn\n",
    "import matplotlib.pyplot as plt\n",
    "import hvplot.pandas\n",
    "import plotly.express as px\n",
    "from pathlib import Path\n",
    "from dotenv import load_dotenv\n",
    "\n",
    "pn.extension(\"plotly\")"
   ]
  },
  {
   "cell_type": "code",
   "execution_count": 3,
   "metadata": {},
   "outputs": [],
   "source": [
    "# Read the Mapbox API key\n",
    "load_dotenv()\n",
    "map_box_api = os.getenv(\"mapbox\")\n",
    "px.set_mapbox_access_token(map_box_api)"
   ]
  },
  {
   "cell_type": "markdown",
   "metadata": {},
   "source": [
    "# Import Data"
   ]
  },
  {
   "cell_type": "code",
   "execution_count": 4,
   "metadata": {},
   "outputs": [],
   "source": [
    "# Import the CSVs to Pandas DataFrames\n",
    "file_path = Path(\"Data/toronto_neighbourhoods_census_data.csv\")\n",
    "to_data = pd.read_csv(file_path, index_col=\"year\")\n",
    "\n",
    "file_path = Path(\"Data/toronto_neighbourhoods_coordinates.csv\")\n",
    "df_neighbourhood_locations = pd.read_csv(file_path)"
   ]
  },
  {
   "cell_type": "markdown",
   "metadata": {},
   "source": [
    "- - -"
   ]
  },
  {
   "cell_type": "markdown",
   "metadata": {},
   "source": [
    "## Panel Visualizations\n",
    "\n",
    "In this section, you will copy the code for each plot type from your analysis notebook and place it into separate functions that Panel can use to create panes for the dashboard. \n",
    "\n",
    "These functions will convert the plot object to a Panel pane.\n",
    "\n",
    "Be sure to include any DataFrame transformation/manipulation code required along with the plotting code.\n",
    "\n",
    "Return a Panel pane object from each function that can be used to build the dashboard.\n",
    "\n",
    "Note: Remove any `.show()` lines from the code. We want to return the plots instead of showing them. The Panel dashboard will then display the plots."
   ]
  },
  {
   "cell_type": "markdown",
   "metadata": {},
   "source": [
    "### Global available data"
   ]
  },
  {
   "cell_type": "code",
   "execution_count": 5,
   "metadata": {},
   "outputs": [],
   "source": [
    "# Getting the data from the top 10 expensive neighbourhoods\n",
    "to_data_2016 = to_data.reset_index()\n",
    "to_data_2016 = to_data_2016.loc[to_data_2016[\"year\"]==2016]\n",
    "to_data_2016_top_10 = to_data_2016.nlargest(10,[\"average_house_value\"])\n",
    "to_data_2016_top_10 = to_data_2016_top_10.drop(columns=[\"single_detached_house\",\n",
    "                                                        \"apartment_five_storeys_plus\", \n",
    "                                                        \"movable_dwelling\", \n",
    "                                                        \"semi_detached_house\", \n",
    "                                                        \"row_house\", \n",
    "                                                        \"duplex\", \n",
    "                                                        \"apartment_five_storeys_less\",\n",
    "                                                        \"other_house\", \n",
    "                                                        \"shelter_costs_owned\",\n",
    "                                                        \"shelter_costs_rented\",\n",
    "                                                       ]\n",
    "                                              )\n",
    "\n",
    "#to_data_2016_top_10\n",
    "\n",
    "# Calculate the mean number of dwelling types units per year\n",
    "data_avg = to_data.reset_index()\n",
    "data_avg = to_data.groupby(\"neighbourhood\").mean().reset_index()\n",
    "#data_avg = data_avg.drop(columns=[\"Total Number of dwellings\", \"Total Value\"]).reset_index()\n",
    "#data_avg.head()\n",
    "\n",
    "# Calculate the average monthly shelter costs for owned and rented dwellings\n",
    "to_data_shelter_costs = to_data.drop(columns=[\"neighbourhood\",\n",
    "                                              \"single_detached_house\",\n",
    "                                              \"apartment_five_storeys_plus\", \n",
    "                                              \"movable_dwelling\", \n",
    "                                              \"semi_detached_house\", \n",
    "                                              \"row_house\", \n",
    "                                              \"duplex\", \n",
    "                                              \"apartment_five_storeys_less\",\n",
    "                                              \"other_house\", \n",
    "                                              \"average_house_value\"])\n",
    "to_data_shelter_costs = to_data_shelter_costs.groupby(to_data_shelter_costs.index).mean()\n",
    "#to_data_shelter_costs\n",
    "\n",
    "#Mean number with coordinates\n",
    "data_avg_coordinates = pd.concat([data_avg,df_neighbourhood_locations], axis=\"columns\", join=\"inner\")\n",
    "data_avg_coordinates = data_avg_coordinates.loc[:,~data_avg_coordinates.columns.duplicated()]\n",
    "data_avg_coordinates = data_avg_coordinates[['neighbourhood',\n",
    "                                            'lat',\n",
    "                                            'lon',\n",
    "                                            'single_detached_house',\n",
    "                                            'apartment_five_storeys_plus',\n",
    "                                            'movable_dwelling',\n",
    "                                            'semi_detached_house',\n",
    "                                            'row_house',\n",
    "                                            'duplex',\n",
    "                                            'apartment_five_storeys_less',\n",
    "                                            'other_house',\n",
    "                                            'average_house_value',\n",
    "                                            'shelter_costs_owned',\n",
    "                                            'shelter_costs_rented',\n",
    "                                           ]]\n",
    "\n",
    "##CALCULATE YEARLY BAR CHARTS:\n",
    "# Calculate the number of dwelling types units per year (hint: use groupby and sum)\n",
    "to_data_year = to_data.groupby(to_data.index).sum()\n",
    "to_data_year = to_data_year.drop(columns=[\"average_house_value\", \n",
    "                                         \"shelter_costs_owned\", \n",
    "                                         \"shelter_costs_rented\"])\n",
    "to_data_year\n",
    "\n",
    "# Create a new DataFrame with the mean house values by neighbourhood per year\n",
    "to_data_by_area = to_data[[\"neighbourhood\",\"average_house_value\"]]\n",
    "to_data_by_area.head()\n",
    "\n",
    "# Use hvplot to create an interactive line chart of the average house value per neighbourhood\n",
    "# The plot should have a dropdown selector for the neighbourhood\n",
    "to_data_by_area_year = to_data_by_area.reset_index()\n",
    "\n",
    "##NUMBER OF DWELLING TYPES\n",
    "# Fetch the data of all dwelling types per year\n",
    "to_data_no_index = to_data.reset_index()\n",
    "to_data_no_index = to_data_no_index.drop(columns=[\"average_house_value\",\n",
    "                                                \"shelter_costs_owned\",\n",
    "                                                \"shelter_costs_rented\"\n",
    "                                                 ])\n",
    "##TOP 10 MOST EXPENSIVE NEIGHBOURHOODS\n",
    "# Getting the data from the top 10 expensive neighbourhoods\n",
    "to_data_2016 = to_data.reset_index()\n",
    "to_data_2016 = to_data_2016.loc[to_data_2016[\"year\"]==2016]\n",
    "to_data_2016_top_10 = to_data_2016.nlargest(10,[\"average_house_value\"])\n",
    "to_data_2016_top_10 = to_data_2016_top_10.drop(columns=[\"single_detached_house\",\n",
    "                                                        \"apartment_five_storeys_plus\", \n",
    "                                                        \"movable_dwelling\", \n",
    "                                                        \"semi_detached_house\", \n",
    "                                                        \"row_house\", \n",
    "                                                        \"duplex\", \n",
    "                                                        \"apartment_five_storeys_less\",\n",
    "                                                        \"other_house\", \n",
    "                                                        \"shelter_costs_owned\",\n",
    "                                                        \"shelter_costs_rented\"\n",
    "                                                       ]\n",
    "                                              )\n"
   ]
  },
  {
   "cell_type": "markdown",
   "metadata": {},
   "source": [
    "### Panel Visualization Functions"
   ]
  },
  {
   "cell_type": "code",
   "execution_count": 12,
   "metadata": {},
   "outputs": [],
   "source": [
    "# Define Panel visualization functions\n",
    "def neighbourhood_map():\n",
    "    px.scatter_mapbox(\n",
    "    data_avg_coordinates,\n",
    "    lat=\"lat\",\n",
    "    lon=\"lon\",\n",
    "    size=\"average_house_value\",\n",
    "    color=\"average_house_value\",\n",
    "    hover_name = \"neighbourhood\",\n",
    "    hover_data = data_avg_coordinates,\n",
    "    zoom=9,\n",
    "    title= \"Average House Values in Toronto\"\n",
    "    )\n",
    "\n",
    "\n",
    "\n",
    "def create_bar_chart(data, title, xlabel, ylabel, color):\n",
    "    plt.subplots(figsize=(10,5))\n",
    "    data.plot.bar(color=color)\n",
    "    plt.xlabel(xlabel)\n",
    "    plt.ylabel(ylabel)\n",
    "    plt.title(title, fontdict={'fontsize':'18','fontweight':'bold'})\n",
    "\n",
    "\n",
    "def create_line_chart(data, title, xlabel, ylabel, color):\n",
    "    plt.subplots(figsize=(20,10))\n",
    "    plt.plot(data, color=color)\n",
    "    plt.xlabel(xlabel)\n",
    "    plt.ylabel(ylabel)\n",
    "    plt.title(title, fontdict={'fontsize':'18','fontweight':'bold'})\n",
    "\n",
    "\n",
    "def average_house_value():\n",
    "    plt.subplots(figsize=(20,10))\n",
    "    plt.plot(to_data_avg_value.iloc[0:,3], color=\"blue\")\n",
    "    plt.xlabel(\"Year\")\n",
    "    plt.ylabel(\"Avg House Value\")\n",
    "    plt.title(\"Average House Value in Toronto\", fontdict={'fontsize':'18','fontweight':'bold'})\n",
    "\n",
    "\n",
    "def average_value_by_neighbourhood():\n",
    "    to_data_by_area_year.hvplot(x=\"year\", \n",
    "                                y='average_house_value', \n",
    "                                groupby='neighbourhood', \n",
    "                                kind='line').opts(yformatter=\"%.0f\")\n",
    "\n",
    "def number_dwelling_types():\n",
    "    to_data_no_index.hvplot.bar(x=\"year\",\n",
    "                                groupby=\"neighbourhood\",\n",
    "                                rot=90,\n",
    "                                height=600,\n",
    "                                xlabel=\"Year\",\n",
    "                                ylabel=\"Dwelling Type Units\")\n",
    "\n",
    "def average_house_value_snapshot():\n",
    "    \"\"\"Average house value for all Toronto's neighbourhoods per year.\"\"\"\n",
    "\n",
    "    # YOUR CODE HERE!\n",
    "\n",
    "def top_most_expensive_neighbourhoods():\n",
    "    to_data_2016_top_10.hvplot.bar(x=\"neighbourhood\",\n",
    "                                   y=\"average_house_value\",\n",
    "                                   rot=90,\n",
    "                                   height=600,\n",
    "                                   title=\"Top 10 Expensive Neighbourhoods in Toronto\",\n",
    "                                   xlabel=\"Neighbourhood\",\n",
    "                                   ylabel=\"Avg. House Value\"\n",
    "                                  ).opts(yformatter=\"%.0f\")\n",
    "\n",
    "def sunburts_cost_analysis():\n",
    "    \"\"\"Sunburst chart to conduct a costs analysis of most expensive neighbourhoods in Toronto per year.\"\"\"\n",
    "    \n",
    "    # YOUR CODE HERE!"
   ]
  },
  {
   "cell_type": "markdown",
   "metadata": {},
   "source": [
    "## Panel Dashboard\n",
    "\n",
    "In this section, you will combine all of the plots into a single dashboard view using Panel. Be creative with your dashboard design!"
   ]
  },
  {
   "cell_type": "code",
   "execution_count": 18,
   "metadata": {},
   "outputs": [
    {
     "data": {
      "image/png": "[encoded data removed]",
      "text/plain": [
       "<Figure size 720x360 with 1 Axes>"
      ]
     },
     "metadata": {
      "needs_background": "light"
     },
     "output_type": "display_data"
    },
    {
     "data": {
      "image/png": "[encoded data removed]",
      "text/plain": [
       "<Figure size 720x360 with 1 Axes>"
      ]
     },
     "metadata": {
      "needs_background": "light"
     },
     "output_type": "display_data"
    },
    {
     "data": {
      "image/png": "[encoded data removed]",
      "text/plain": [
       "<Figure size 720x360 with 1 Axes>"
      ]
     },
     "metadata": {
      "needs_background": "light"
     },
     "output_type": "display_data"
    },
    {
     "data": {
      "image/png": "[encoded data removed]",
      "text/plain": [
       "<Figure size 720x360 with 1 Axes>"
      ]
     },
     "metadata": {
      "needs_background": "light"
     },
     "output_type": "display_data"
    }
   ],
   "source": [
    "# Create a Title for the Dashboard\n",
    "title = \"Toronto Real Estate Analysis 2001-2016\"\n",
    "\n",
    "# Define a welcome text\n",
    "welcome_text = \"# Welcome to David Savage's Toronto Real Estate Analysis. Please review each tab carefully\"\n",
    "\n",
    "# Create a tab layout for the dashboard\n",
    "tab_1 = pn.Column(\n",
    "    welcome_text,\n",
    "    neighbourhood_map())\n",
    "\n",
    "tab_2_a = pn.Row(create_bar_chart(to_data_year.iloc[0], \n",
    "                 \"Dwelling Types in Toronto in 2001\", \n",
    "                 \"Dwelling Types in Toronto\", \n",
    "                 \"Dwelling Type Units\",\n",
    "                 \"red\"), create_bar_chart(to_data_year.iloc[1], \n",
    "                 \"Dwelling Types in Toronto in 2006\", \n",
    "                 \"Dwelling Types in Toronto\", \n",
    "                 \"Dwelling Type Units\",\n",
    "                 \"blue\"))\n",
    "tab_2_b = pn.Row(create_bar_chart(to_data_year.iloc[2], \n",
    "                 \"Dwelling Types in Toronto in 2011\", \n",
    "                 \"Dwelling Types in Toronto\", \n",
    "                 \"Dwelling Type Units\",\n",
    "                 \"gold\"), create_bar_chart(to_data_year.iloc[3], \n",
    "                 \"Dwelling Types in Toronto in 2016\", \n",
    "                 \"Dwelling Types in Toronto\", \n",
    "                 \"Dwelling Type Units\",\n",
    "                 \"violet\"))\n",
    "tab_2 = pn.Column(tab_2_a, tab_2_b)\n"
   ]
  },
  {
   "cell_type": "code",
   "execution_count": 20,
   "metadata": {},
   "outputs": [
    {
     "data": {
      "application/vnd.holoviews_exec.v0+json": "",
      "text/html": [
       "<div id='1098'>\n",
       "\n",
       "\n",
       "\n",
       "\n",
       "\n",
       "  <div class=\"bk-root\" id=\"f3ed5727-2835-49af-8020-4ca3baf48694\" data-root-id=\"1098\"></div>\n",
       "</div>\n",
       "<script type=\"application/javascript\">(function(root) {\n",
       "  function embed_document(root) {\n",
       "  var docs_json = {\"795ea7b2-96f9-4edb-96fc-339c99ebef83\":{\"roots\":{\"references\":[{\"attributes\":{\"children\":[{\"id\":\"1100\"},{\"id\":\"1101\"}],\"margin\":[0,0,0,0],\"name\":\"Column01509\"},\"id\":\"1099\",\"type\":\"Column\"},{\"attributes\":{\"margin\":[5,5,5,5],\"name\":\"Str01507\"},\"id\":\"1101\",\"type\":\"panel.models.markup.HTML\"},{\"attributes\":{\"margin\":[0,0,0,0],\"tabs\":[{\"id\":\"1102\"},{\"id\":\"1110\"}]},\"id\":\"1098\",\"type\":\"Tabs\"},{\"attributes\":{\"children\":[{\"id\":\"1104\"},{\"id\":\"1107\"}],\"margin\":[0,0,0,0],\"name\":\"Column01520\"},\"id\":\"1103\",\"type\":\"Column\"},{\"attributes\":{\"child\":{\"id\":\"1099\"},\"name\":\"Column01509\",\"title\":\"Welcome\"},\"id\":\"1102\",\"type\":\"Panel\"},{\"attributes\":{\"children\":[{\"id\":\"1108\"},{\"id\":\"1109\"}],\"margin\":[0,0,0,0],\"name\":\"Row01519\"},\"id\":\"1107\",\"type\":\"Row\"},{\"attributes\":{\"css_classes\":[\"markdown\"],\"margin\":[5,5,5,5],\"name\":\"Markdown01505\",\"text\":\"&lt;h1&gt;Welcome to David Savage&amp;rsquo;s Toronto Real Estate Analysis. Please review each tab carefully&lt;/h1&gt;\"},\"id\":\"1100\",\"type\":\"panel.models.markup.HTML\"},{\"attributes\":{\"children\":[{\"id\":\"1105\"},{\"id\":\"1106\"}],\"margin\":[0,0,0,0],\"name\":\"Row01514\"},\"id\":\"1104\",\"type\":\"Row\"},{\"attributes\":{\"margin\":[5,5,5,5],\"name\":\"Str01512\"},\"id\":\"1106\",\"type\":\"panel.models.markup.HTML\"},{\"attributes\":{\"margin\":[5,5,5,5],\"name\":\"Str01510\"},\"id\":\"1105\",\"type\":\"panel.models.markup.HTML\"},{\"attributes\":{\"margin\":[5,5,5,5],\"name\":\"Str01515\"},\"id\":\"1108\",\"type\":\"panel.models.markup.HTML\"},{\"attributes\":{\"margin\":[5,5,5,5],\"name\":\"Str01517\"},\"id\":\"1109\",\"type\":\"panel.models.markup.HTML\"},{\"attributes\":{\"client_comm_id\":\"6c1fd383b4054b53837b1fe18e33528e\",\"comm_id\":\"9ebecbdb333847419cefdf5c923d977e\",\"plot_id\":\"1098\"},\"id\":\"1111\",\"type\":\"panel.models.comm_manager.CommManager\"},{\"attributes\":{\"child\":{\"id\":\"1103\"},\"name\":\"Column01520\",\"title\":\"Year by Year Analysis\"},\"id\":\"1110\",\"type\":\"Panel\"}],\"root_ids\":[\"1098\",\"1111\"]},\"title\":\"Bokeh Application\",\"version\":\"2.0.2\"}};\n",
       "  var render_items = [{\"docid\":\"795ea7b2-96f9-4edb-96fc-339c99ebef83\",\"root_ids\":[\"1098\"],\"roots\":{\"1098\":\"f3ed5727-2835-49af-8020-4ca3baf48694\"}}];\n",
       "  root.Bokeh.embed.embed_items_notebook(docs_json, render_items);\n",
       "  }\n",
       "if (root.Bokeh !== undefined) {\n",
       "    embed_document(root);\n",
       "  } else {\n",
       "    var attempts = 0;\n",
       "    var timer = setInterval(function(root) {\n",
       "      if (root.Bokeh !== undefined) {\n",
       "        clearInterval(timer);\n",
       "        embed_document(root);\n",
       "      } else if (document.readyState == \"complete\") {\n",
       "        attempts++;\n",
       "        if (attempts > 100) {\n",
       "          clearInterval(timer);\n",
       "          console.log(\"Bokeh: ERROR: Unable to run BokehJS code because BokehJS library is missing\");\n",
       "        }\n",
       "      }\n",
       "    }, 10, root)\n",
       "  }\n",
       "})(window);</script>"
      ],
      "text/plain": [
       "Tabs\n",
       "    [0] Column\n",
       "        [0] Markdown(str)\n",
       "        [1] Str(None)\n",
       "    [1] Column\n",
       "        [0] Row\n",
       "            [0] Str(None)\n",
       "            [1] Str(None)\n",
       "        [1] Row\n",
       "            [0] Str(None)\n",
       "            [1] Str(None)"
      ]
     },
     "execution_count": 20,
     "metadata": {
      "application/vnd.holoviews_exec.v0+json": {
       "id": "1098"
      }
     },
     "output_type": "execute_result"
    }
   ],
   "source": [
    "# Create the main dashboard\n",
    "dashboard = pn.Tabs(\n",
    "    (\"Welcome\", tab_1),\n",
    "    (\"Year by Year Analysis\", tab_2))\n",
    "dashboard"
   ]
  },
  {
   "cell_type": "markdown",
   "metadata": {},
   "source": [
    "## Serve the Panel Dashboard"
   ]
  },
  {
   "cell_type": "code",
   "execution_count": 21,
   "metadata": {},
   "outputs": [
    {
     "data": {
      "application/vnd.holoviews_exec.v0+json": "",
      "text/html": [
       "<div id='1113'>\n",
       "\n",
       "\n",
       "\n",
       "\n",
       "\n",
       "  <div class=\"bk-root\" id=\"0f17f124-bc68-4f61-8cd0-105650771467\" data-root-id=\"1113\"></div>\n",
       "</div>\n",
       "<script type=\"application/javascript\">(function(root) {\n",
       "  function embed_document(root) {\n",
       "  var docs_json = {\"8e9387e4-66f5-4040-9d8c-e97c952097f0\":{\"roots\":{\"references\":[{\"attributes\":{\"child\":{\"id\":\"1114\"},\"name\":\"Column01509\",\"title\":\"Welcome\"},\"id\":\"1117\",\"type\":\"Panel\"},{\"attributes\":{\"child\":{\"id\":\"1118\"},\"name\":\"Column01520\",\"title\":\"Year by Year Analysis\"},\"id\":\"1125\",\"type\":\"Panel\"},{\"attributes\":{\"margin\":[5,5,5,5],\"name\":\"Str01512\"},\"id\":\"1121\",\"type\":\"panel.models.markup.HTML\"},{\"attributes\":{\"css_classes\":[\"markdown\"],\"margin\":[5,5,5,5],\"name\":\"Markdown01505\",\"text\":\"&lt;h1&gt;Welcome to David Savage&amp;rsquo;s Toronto Real Estate Analysis. Please review each tab carefully&lt;/h1&gt;\"},\"id\":\"1115\",\"type\":\"panel.models.markup.HTML\"},{\"attributes\":{\"margin\":[5,5,5,5],\"name\":\"Str01507\"},\"id\":\"1116\",\"type\":\"panel.models.markup.HTML\"},{\"attributes\":{\"children\":[{\"id\":\"1120\"},{\"id\":\"1121\"}],\"margin\":[0,0,0,0],\"name\":\"Row01514\"},\"id\":\"1119\",\"type\":\"Row\"},{\"attributes\":{\"children\":[{\"id\":\"1123\"},{\"id\":\"1124\"}],\"margin\":[0,0,0,0],\"name\":\"Row01519\"},\"id\":\"1122\",\"type\":\"Row\"},{\"attributes\":{\"margin\":[5,5,5,5],\"name\":\"Str01515\"},\"id\":\"1123\",\"type\":\"panel.models.markup.HTML\"},{\"attributes\":{\"margin\":[0,0,0,0],\"tabs\":[{\"id\":\"1117\"},{\"id\":\"1125\"}]},\"id\":\"1113\",\"type\":\"Tabs\"},{\"attributes\":{\"children\":[{\"id\":\"1119\"},{\"id\":\"1122\"}],\"margin\":[0,0,0,0],\"name\":\"Column01520\"},\"id\":\"1118\",\"type\":\"Column\"},{\"attributes\":{\"margin\":[5,5,5,5],\"name\":\"Str01510\"},\"id\":\"1120\",\"type\":\"panel.models.markup.HTML\"},{\"attributes\":{\"client_comm_id\":\"c2a086f0dd7c4ffcb4306d45893bd26c\",\"comm_id\":\"5fcc4c114ece4358b58e1189ce5c9ad3\",\"plot_id\":\"1113\"},\"id\":\"1126\",\"type\":\"panel.models.comm_manager.CommManager\"},{\"attributes\":{\"children\":[{\"id\":\"1115\"},{\"id\":\"1116\"}],\"margin\":[0,0,0,0],\"name\":\"Column01509\"},\"id\":\"1114\",\"type\":\"Column\"},{\"attributes\":{\"margin\":[5,5,5,5],\"name\":\"Str01517\"},\"id\":\"1124\",\"type\":\"panel.models.markup.HTML\"}],\"root_ids\":[\"1113\",\"1126\"]},\"title\":\"Bokeh Application\",\"version\":\"2.0.2\"}};\n",
       "  var render_items = [{\"docid\":\"8e9387e4-66f5-4040-9d8c-e97c952097f0\",\"root_ids\":[\"1113\"],\"roots\":{\"1113\":\"0f17f124-bc68-4f61-8cd0-105650771467\"}}];\n",
       "  root.Bokeh.embed.embed_items_notebook(docs_json, render_items);\n",
       "  }\n",
       "if (root.Bokeh !== undefined) {\n",
       "    embed_document(root);\n",
       "  } else {\n",
       "    var attempts = 0;\n",
       "    var timer = setInterval(function(root) {\n",
       "      if (root.Bokeh !== undefined) {\n",
       "        clearInterval(timer);\n",
       "        embed_document(root);\n",
       "      } else if (document.readyState == \"complete\") {\n",
       "        attempts++;\n",
       "        if (attempts > 100) {\n",
       "          clearInterval(timer);\n",
       "          console.log(\"Bokeh: ERROR: Unable to run BokehJS code because BokehJS library is missing\");\n",
       "        }\n",
       "      }\n",
       "    }, 10, root)\n",
       "  }\n",
       "})(window);</script>"
      ],
      "text/plain": [
       "Tabs\n",
       "    [0] Column\n",
       "        [0] Markdown(str)\n",
       "        [1] Str(None)\n",
       "    [1] Column\n",
       "        [0] Row\n",
       "            [0] Str(None)\n",
       "            [1] Str(None)\n",
       "        [1] Row\n",
       "            [0] Str(None)\n",
       "            [1] Str(None)"
      ]
     },
     "execution_count": 21,
     "metadata": {
      "application/vnd.holoviews_exec.v0+json": {
       "id": "1113"
      }
     },
     "output_type": "execute_result"
    }
   ],
   "source": [
    "dashboard.servable()"
   ]
  },
  {
   "cell_type": "markdown",
   "metadata": {},
   "source": [
    "# Debugging\n",
    "\n",
    "Note: Some of the Plotly express plots may not render in the notebook through the panel functions.\n",
    "\n",
    "However, you can test each plot by uncommenting the following code"
   ]
  },
  {
   "cell_type": "code",
   "execution_count": 29,
   "metadata": {},
   "outputs": [
    {
     "data": {
      "application/vnd.plotly.v1+json": {
       "config": {
        "plotlyServerURL": "https://plot.ly"
       },
       "data": [
        {
         "customdata": [
          [
           "Agincourt North",
           43.80544058,
           -79.26671217,
           3435,
           1947.5,
           2.5,
           863.75,
           1406.25,
           512.5,
           547.5,
           10,
           329811.5,
           1109,
           983.5
          ],
          [
           "Agincourt South-Malvern West",
           43.78865755,
           -79.2656118,
           2897.5,
           2180,
           1.25,
           375,
           456.25,
           523.75,
           628.75,
           32.5,
           334189,
           1131.25,
           985
          ],
          [
           "Alderwood",
           43.6049369,
           -79.54161093,
           2903.75,
           302.5,
           1.25,
           503.75,
           76.25,
           302.5,
           502.5,
           1.25,
           427922.5,
           1166.75,
           1003.25
          ],
          [
           "Annex",
           43.67158544,
           -79.40400062,
           751.25,
           7235,
           1.25,
           1375,
           613.75,
           355,
           4605,
           83.75,
           746977,
           1692.75,
           1315.25
          ],
          [
           "Banbury-Don Mills",
           43.737657,
           -79.34971798,
           3572.5,
           5388.75,
           1.25,
           273.75,
           626.25,
           32.5,
           1340,
           0,
           612039,
           1463.5,
           1242.75
          ],
          [
           "Bathurst Manor",
           43.76481331,
           -79.45605516,
           2131.25,
           1815,
           0,
           151.25,
           70,
           677.5,
           973.75,
           8.75,
           501576.75,
           1307,
           1059.5
          ],
          [
           "Bay Street Corridor",
           43.65751135,
           -79.38572125,
           3.75,
           10470,
           0,
           1.25,
           18.75,
           1.25,
           271.25,
           2.5,
           423653.5,
           1494.5,
           1436.75
          ],
          [
           "Bayview Village",
           43.77636052,
           -79.37711686,
           2101.25,
           3222.5,
           2.5,
           141.25,
           830,
           70,
           500,
           2.5,
           539258.75,
           1512.75,
           1422
          ],
          [
           "Bayview Woods-Steeles",
           43.79680187,
           -79.38211795,
           1585,
           1700,
           0,
           580,
           175,
           86.25,
           522.5,
           1.25,
           565413.5,
           1364.25,
           1399.5
          ],
          [
           "Bedford Park-Nortown",
           43.73148623,
           -79.42022735,
           4865,
           1981.25,
           0,
           43.75,
           57.5,
           287.5,
           1275,
           88.75,
           930415.25,
           1786.75,
           1255
          ],
          [
           "Beechborough-Greenbrook",
           43.69321649,
           -79.47947251,
           686.25,
           671.25,
           0,
           70,
           16.25,
           97.5,
           1060,
           3.75,
           370927.75,
           1029.25,
           797.5
          ],
          [
           "Bendale",
           43.76036631,
           -79.25740037,
           3993.75,
           3582.5,
           2.5,
           323.75,
           258.75,
           921.25,
           330,
           10,
           301123.25,
           1151.25,
           994.5
          ],
          [
           "Birchcliffe-Cliffside",
           43.69468198,
           -79.26509259,
           5045,
           920,
           0,
           418.75,
           47.5,
           781.25,
           1957.5,
           26.25,
           437315,
           1228.75,
           918.75
          ],
          [
           "Black Creek",
           43.76489025,
           -79.52197932,
           732.5,
           4356.25,
           0,
           685,
           1116.25,
           113.75,
           238.75,
           2.5,
           260841.75,
           1011.75,
           864.5
          ],
          [
           "Blake-Jones",
           43.67617288,
           -79.33739417,
           526.25,
           491.25,
           0,
           810,
           380,
           151.25,
           748.75,
           25,
           511437,
           1359.25,
           897.75
          ],
          [
           "Briar Hill-Belgravia",
           43.69902438,
           -79.45285129999999,
           1713.75,
           2401.25,
           0,
           150,
           37.5,
           351.25,
           1035,
           5,
           365524.5,
           1304.25,
           1030.25
          ],
          [
           "Bridle Path-Sunnybrook-York Mills",
           43.73101314,
           -79.37890418,
           2260,
           331.25,
           0,
           36.25,
           90,
           25,
           40,
           0,
           1526485.75,
           2360.75,
           2321.75
          ],
          [
           "Broadview North",
           43.68882512,
           -79.35562951,
           880,
           3213.75,
           0,
           448.75,
           81.25,
           112.5,
           793.75,
           1.25,
           443373.25,
           1320.25,
           1007.75
          ],
          [
           "Brookhaven-Amesbury",
           43.70132631,
           -79.48558926,
           1775,
           3568.75,
           0,
           255,
           8.75,
           108.75,
           501.25,
           6.25,
           350943,
           1151.25,
           932.5
          ],
          [
           "Cabbagetown-South St.James Town",
           43.66764773,
           -79.36610666,
           268.75,
           3322.5,
           0,
           451.25,
           615,
           127.5,
           1422.5,
           12.5,
           494110.5,
           1479.25,
           1072.25
          ],
          [
           "Caledonia-Fairbank",
           43.68856865,
           -79.45521208,
           1757.5,
           166.25,
           0,
           421.25,
           18.75,
           371.25,
           853.75,
           5,
           361714.25,
           1239.25,
           989
          ],
          [
           "Casa Loma",
           43.6818521,
           -79.40800665,
           916.25,
           2310,
           0,
           288.75,
           201.25,
           162.5,
           1192.5,
           2.5,
           981064.25,
           1873.75,
           1547.75
          ],
          [
           "Centennial Scarborough",
           43.7823765,
           -79.15084327,
           3341.25,
           0,
           2.5,
           166.25,
           420,
           125,
           40,
           5,
           409862.75,
           1331.5,
           1148.75
          ],
          [
           "Church-Yonge Corridor",
           43.65964886,
           -79.37901717,
           28.75,
           15042.5,
           1.25,
           32.5,
           231.25,
           38.75,
           1337.5,
           27.5,
           406117.5,
           1539,
           1202.75
          ],
          [
           "Clairlea-Birchmount",
           43.71359238,
           -79.28138178,
           3223.75,
           1746.25,
           2.5,
           890,
           525,
           563.75,
           1020,
           28.75,
           354555.25,
           1241,
           952
          ],
          [
           "Clanton Park",
           43.74197843,
           -79.44630258,
           2480,
           1352.5,
           6.25,
           11.25,
           12.5,
           517.5,
           1256.25,
           15,
           551561.25,
           1394.25,
           1024
          ],
          [
           "Cliffcrest",
           43.72112117,
           -79.23552957,
           3407.5,
           1317.5,
           1.25,
           63.75,
           342.5,
           372.5,
           147.5,
           43.75,
           417422,
           1227.5,
           911.25
          ],
          [
           "Corso Italia-Davenport",
           43.67766091,
           -79.44746933,
           1451.25,
           3.75,
           0,
           1375,
           103.75,
           482.5,
           1811.25,
           35,
           419930.5,
           1217.5,
           986.75
          ],
          [
           "Danforth",
           43.68402547,
           -79.32981941,
           708.75,
           337.5,
           0,
           1350,
           33.75,
           197.5,
           1275,
           30,
           466943,
           1343.25,
           930.75
          ],
          [
           "Danforth-East York",
           43.68946809,
           -79.33140338,
           3001.25,
           778.75,
           0,
           1721.25,
           32.5,
           512.5,
           856.25,
           30,
           421679.25,
           1265,
           982
          ],
          [
           "Don Valley Village",
           43.78329369,
           -79.35364413,
           2155,
           5256.25,
           1.25,
           397.5,
           1438.75,
           120,
           247.5,
           2.5,
           398010.25,
           1246.25,
           1117.75
          ],
          [
           "Dorset Park",
           43.75927437,
           -79.27890794,
           2106.25,
           3743.75,
           0,
           326.25,
           1318.75,
           405,
           413.75,
           3.75,
           262000.25,
           1152.25,
           953.5
          ],
          [
           "Dovercourt-Wallace Emerson-Juncti",
           43.66567693,
           -79.4385407,
           1901.25,
           1666.25,
           2.5,
           2683.75,
           927.5,
           867.5,
           5661.25,
           105,
           434699.5,
           1231.25,
           1003.25
          ],
          [
           "Downsview-Roding-CFB",
           43.73329235,
           -79.49049735,
           4328.75,
           3183.75,
           2.5,
           893.75,
           535,
           330,
           3415,
           15,
           381415.5,
           1096,
           928
          ],
          [
           "Dufferin Grove",
           43.65542833,
           -79.43734104,
           402.5,
           1235,
           0,
           713.75,
           112.5,
           296.25,
           2322.5,
           35,
           457588.75,
           1303.5,
           1063.25
          ],
          [
           "East End-Danforth",
           43.68417388,
           -79.29935867,
           1835,
           2061.25,
           2.5,
           1973.75,
           445,
           460,
           2093.75,
           40,
           478054.25,
           1498.5,
           970.25
          ],
          [
           "Edenbridge-Humber Valley",
           43.67088591,
           -79.52245776,
           2570,
           2071.25,
           0,
           90,
           131.25,
           43.75,
           1043.75,
           1.25,
           796162.5,
           1524.75,
           1194.25
          ],
          [
           "Eglinton East",
           43.7409223,
           -79.24559804,
           1637.5,
           5045,
           0,
           108.75,
           403.75,
           481.25,
           251.25,
           6.25,
           268966.5,
           1103.5,
           907.25
          ],
          [
           "Elms-Old Rexdale",
           43.72151887,
           -79.54898272,
           1036.25,
           1377.5,
           0,
           75,
           476.25,
           153.75,
           50,
           0,
           268341.25,
           1202.25,
           998.5
          ],
          [
           "Englemount-Lawrence",
           43.72034467,
           -79.43740855,
           2052.5,
           2722.5,
           0,
           27.5,
           262.5,
           423.75,
           2502.5,
           7.5,
           568936.75,
           1344.25,
           987
          ],
          [
           "Eringate-Centennial-West Deane",
           43.65801676,
           -79.58044524,
           3951.25,
           1742.5,
           0,
           326.25,
           553.75,
           93.75,
           70,
           6.25,
           397781.75,
           1202.75,
           1103
          ],
          [
           "Etobicoke West Mall",
           43.64506262,
           -79.56893877,
           987.5,
           2772.5,
           0,
           96.25,
           222.5,
           45,
           56.25,
           10,
           309412,
           1162.25,
           1071.25
          ],
          [
           "Flemingdon Park",
           43.71592975,
           -79.33264597,
           5,
           6368.75,
           0,
           182.5,
           630,
           3.75,
           591.25,
           0,
           207799,
           1199.75,
           973
          ],
          [
           "Forest Hill North",
           43.70421756,
           -79.42814316,
           1488.75,
           3392.5,
           0,
           12.5,
           16.25,
           82.5,
           402.5,
           1.25,
           851680.5,
           1722.75,
           1245.5
          ],
          [
           "Forest Hill South",
           43.69452576,
           -79.41431786,
           1742.5,
           2031.25,
           1.25,
           61.25,
           45,
           75,
           1027.5,
           3.75,
           1195992.5,
           1781,
           1313.75
          ],
          [
           "Glenfield-Jane Heights",
           43.74563575,
           -79.51346532,
           441.25,
           3413.75,
           0,
           3538.75,
           1322.5,
           298.75,
           923.75,
           6.25,
           327597.75,
           1080,
           860.5
          ],
          [
           "Greenwood-Coxwell",
           43.67261231,
           -79.32431802,
           1077.5,
           517.5,
           1.25,
           1718.75,
           371.25,
           275,
           2082.5,
           12.5,
           387055.5,
           1255.75,
           910.5
          ],
          [
           "Guildwood",
           43.74882934,
           -79.19505535,
           2213.75,
           1082.5,
           0,
           116.25,
           296.25,
           122.5,
           100,
           1.25,
           369373.5,
           1208.25,
           1084.5
          ],
          [
           "Henry Farm",
           43.77114414,
           -79.34124067,
           500,
           3558.75,
           0,
           15,
           496.25,
           11.25,
           30,
           1.25,
           369958,
           1370.75,
           1178.5
          ],
          [
           "High Park North",
           43.65756491,
           -79.46630217,
           1442.5,
           6020,
           0,
           617.5,
           118.75,
           487.5,
           1891.25,
           13.75,
           532497,
           1456.75,
           1183
          ],
          [
           "High Park-Swansea",
           43.64506458,
           -79.46787222,
           2782.5,
           2507.5,
           1.25,
           520,
           202.5,
           692.5,
           3066.25,
           20,
           582977.75,
           1482.75,
           1129.75
          ],
          [
           "Highland Creek",
           43.79077477,
           -79.17747247,
           3125,
           1.25,
           1.25,
           3.75,
           10,
           470,
           23.75,
           0,
           428838.5,
           1245,
           967
          ],
          [
           "Hillcrest Village",
           43.80298783,
           -79.354804,
           1696.25,
           1950,
           0,
           900,
           1085,
           140,
           670,
           0,
           395023,
           1115.25,
           765.75
          ],
          [
           "Humber Heights-Westmount",
           43.6922328,
           -79.5224162,
           1727.5,
           1958.75,
           1.25,
           58.75,
           58.75,
           133.75,
           153.75,
           1.25,
           449150.5,
           1210,
           1055.5
          ],
          [
           "Humber Summit",
           43.75891975,
           -79.55617474,
           503.75,
           720,
           1.25,
           2031.25,
           101.25,
           85,
           375,
           0,
           352082.5,
           1121.25,
           935.5
          ],
          [
           "Humbermede",
           43.74342952,
           -79.54236712,
           583.75,
           1568.75,
           0,
           1333.75,
           267.5,
           68.75,
           990,
           1.25,
           319783.75,
           1158.5,
           988
          ],
          [
           "Humewood-Cedarvale",
           43.69136981,
           -79.42768335,
           1885,
           1700,
           0,
           258.75,
           6.25,
           160,
           2495,
           1.25,
           697085.5,
           1575.75,
           1094
          ],
          [
           "Ionview",
           43.73536441,
           -79.27247049,
           1110,
           2858.75,
           0,
           380,
           138.75,
           285,
           205,
           75,
           287685.75,
           1116.75,
           902.25
          ],
          [
           "Islington-City Centre West",
           43.63346335,
           -79.54331654,
           5206.25,
           8633.75,
           0,
           127.5,
           448.75,
           207.5,
           666.25,
           5,
           451685.25,
           1338.25,
           1109.25
          ],
          [
           "Junction Area",
           43.66788977,
           -79.47143987,
           822.5,
           348.75,
           0,
           952.5,
           526.25,
           563.75,
           2218.75,
           20,
           433269.25,
           1381.5,
           1085
          ],
          [
           "Keelesdale-Eglinton West",
           43.68572747,
           -79.47143711,
           1787.5,
           511.25,
           2.5,
           380,
           11.25,
           385,
           943.75,
           1.25,
           322774.75,
           1126.25,
           855.25
          ],
          [
           "Kennedy Park",
           43.72555572,
           -79.26038221,
           1785,
           2852.5,
           1.25,
           436.25,
           122.5,
           581.25,
           667.5,
           61.25,
           287233.5,
           1083.75,
           805.25
          ],
          [
           "Kensington-Chinatown",
           43.65355413,
           -79.39723988,
           118.75,
           4041.25,
           1.25,
           328.75,
           761.25,
           135,
           2663.75,
           78.75,
           440485.75,
           1390.75,
           1071.5
          ],
          [
           "Kingsview Village-The Westway",
           43.69899257,
           -79.54786331,
           2197.5,
           4758.75,
           0,
           137.5,
           307.5,
           148.75,
           200,
           1.25,
           338344.75,
           1136.5,
           1046
          ],
          [
           "Kingsway South",
           43.65352043,
           -79.5105768,
           2326.25,
           576.25,
           0,
           66.25,
           48.75,
           20,
           336.25,
           2.5,
           843234.25,
           1736.75,
           1622
          ],
          [
           "L'Amoreaux",
           43.79571603,
           -79.31408424,
           1285,
           692.5,
           0,
           548.75,
           145,
           86.25,
           362.5,
           2.5,
           650307.75,
           1448,
           945.75
          ],
          [
           "Lambton Baby Point",
           43.65742013,
           -79.49604526,
           3731.25,
           6731.25,
           0,
           1032.5,
           2441.25,
           340,
           645,
           10,
           336617.75,
           1135.25,
           948
          ],
          [
           "Lansing-Westgate",
           43.75427115,
           -79.42474772,
           2447.5,
           2508.75,
           1.25,
           42.5,
           0,
           153.75,
           592.5,
           12.5,
           613216.5,
           1588.5,
           1360.25
          ],
          [
           "Lawrence Park North",
           43.73006017,
           -79.40397836,
           3196.25,
           201.25,
           0,
           871.25,
           23.75,
           177.5,
           1008.75,
           1.25,
           759392.5,
           1769.75,
           1372.75
          ],
          [
           "Lawrence Park South",
           43.7172117,
           -79.40603941,
           3472.5,
           773.75,
           0,
           126.25,
           38.75,
           225,
           966.25,
           16.25,
           1094027.75,
           1954,
           1372.75
          ],
          [
           "Leaside-Bennington",
           43.70379663,
           -79.36607234,
           3601.25,
           548.75,
           0,
           791.25,
           75,
           47.5,
           1421.25,
           8.75,
           806471.75,
           1664.25,
           1250.5
          ],
          [
           "Little Portugal",
           43.64753593,
           -79.43032271,
           343.75,
           1097.5,
           0,
           666.25,
           658.75,
           212.5,
           2560,
           38.75,
           540192.5,
           1294.75,
           1043.5
          ],
          [
           "Long Branch",
           43.59236169,
           -79.53334545,
           1513.75,
           960,
           0,
           76.25,
           85,
           216.25,
           1696.25,
           15,
           385830.25,
           1315.75,
           993.5
          ],
          [
           "Malvern",
           43.80365820000001,
           -79.22251662,
           3693.75,
           2982.5,
           0,
           1317.5,
           3410,
           878.75,
           552.5,
           55,
           256880.25,
           1228,
           998.75
          ],
          [
           "Maple Leaf",
           43.71557394,
           -79.48075802,
           1690,
           861.25,
           2.5,
           167.5,
           97.5,
           151.25,
           595,
           3.75,
           453229,
           1089,
           949.25
          ],
          [
           "Markland Wood",
           43.63354175,
           -79.57343155,
           1788.75,
           2010,
           0,
           6.25,
           270,
           81.25,
           108.75,
           2.5,
           443974.75,
           1250.5,
           1117.5
          ],
          [
           "Milliken",
           43.82069079,
           -79.27500892,
           3910,
           1948.75,
           0,
           550,
           605,
           395,
           95,
           22.5,
           344988.25,
           1101.25,
           951
          ],
          [
           "Mimico",
           43.61592386,
           -79.50013664,
           2406.25,
           6996.25,
           1.25,
           266.25,
           766.25,
           407.5,
           2966.25,
           18.75,
           393490.5,
           1429.25,
           1084.5
          ],
          [
           "Morningside",
           43.78239861,
           -79.20704119,
           2256.25,
           2105,
           1.25,
           27.5,
           880,
           255,
           211.25,
           2.5,
           285013.5,
           1199.25,
           917.75
          ],
          [
           "Moss Park",
           43.65651762,
           -79.36729703,
           110,
           5908.75,
           0,
           167.5,
           630,
           106.25,
           1973.75,
           23.75,
           409456,
           1477,
           938.5
          ],
          [
           "Mount Dennis",
           43.68814409,
           -79.49998906,
           1028.75,
           2238.75,
           0,
           138.75,
           302.5,
           176.25,
           912.5,
           2.5,
           262308.75,
           1244.75,
           957.25
          ],
          [
           "Mount Olive-Silverstone-Jamestown",
           43.7468678,
           -79.58725926,
           1730,
           5916.25,
           1.25,
           176.25,
           1033.75,
           603.75,
           127.5,
           1.25,
           253182.25,
           1159.5,
           955.25
          ],
          [
           "Mount Pleasant East",
           43.70485217,
           -79.38492395,
           2225,
           2008.75,
           1.25,
           1611.25,
           146.25,
           170,
           1066.25,
           97.5,
           677370.25,
           1665.5,
           1205.75
          ],
          [
           "Mount Pleasant West",
           43.70443517,
           -79.39335955,
           503.75,
           13042.5,
           6.25,
           193.75,
           237.5,
           96.25,
           1877.5,
           21.25,
           468181.75,
           1566.75,
           1219.75
          ],
          [
           "New Toronto",
           43.6005886,
           -79.51035809,
           1601.25,
           1091.25,
           1.25,
           205,
           203.75,
           188.75,
           1763.75,
           3.75,
           407812,
           1227,
           865.5
          ],
          [
           "Newtonbrook East",
           43.79153579,
           -79.40593745,
           2906.25,
           2403.75,
           1.25,
           8.75,
           35,
           265,
           302.5,
           0,
           559573.25,
           1440.75,
           1230
          ],
          [
           "Newtonbrook West",
           43.78582994,
           -79.43142151,
           2696.25,
           3677.5,
           0,
           631.25,
           500,
           273.75,
           392.5,
           1.25,
           460568.5,
           1271,
           1139.25
          ],
          [
           "Niagara",
           43.63668088,
           -79.4124204,
           52.5,
           8266.25,
           0,
           142.5,
           857.5,
           232.5,
           1683.75,
           17.5,
           369993,
           1630.25,
           1343.75
          ],
          [
           "North Riverdale",
           43.67199515,
           -79.35126041,
           875,
           667.5,
           0,
           1391.25,
           236.25,
           262.5,
           1575,
           31.25,
           703063.25,
           1490.75,
           1134.5
          ],
          [
           "North St.James Town",
           43.66962341,
           -79.37524658,
           15,
           8233.75,
           1.25,
           22.5,
           80,
           17.5,
           513.75,
           6.25,
           411455.75,
           1539.75,
           1015.5
          ],
          [
           "O'Connor-Parkview",
           43.70680049,
           -79.31222777,
           1142.5,
           3193.75,
           0,
           150,
           206.25,
           300,
           217.5,
           15,
           298315.75,
           1038.25,
           785.5
          ],
          [
           "Oakridge",
           43.69740813,
           -79.27970834,
           3000,
           1600,
           0,
           1282.5,
           31.25,
           667.5,
           2055,
           21.25,
           422257.5,
           1221.25,
           937.5
          ],
          [
           "Oakwood Village",
           43.68856556,
           -79.43978548,
           3033.75,
           2320,
           1.25,
           127.5,
           118.75,
           293.75,
           1487.5,
           6.25,
           441202.75,
           1263.25,
           939
          ],
          [
           "Old East York",
           43.69678127,
           -79.33548836,
           2313.75,
           528.75,
           0,
           170,
           0,
           358.75,
           423.75,
           12.5,
           443413.5,
           1204.5,
           993.75
          ],
          [
           "Palmerston-Little Italy",
           43.6591571,
           -79.41840873,
           458.75,
           263.75,
           1.25,
           1150,
           298.75,
           240,
           3713.75,
           66.25,
           622191.75,
           1390,
           1201.5
          ],
          [
           "Parkwoods-Donalda",
           43.75503347,
           -79.33017952,
           2567.5,
           6465,
           1.25,
           1445,
           1365,
           83.75,
           1157.5,
           5,
           454652.5,
           1276,
           1125
          ],
          [
           "Pelmo Park-Humberlea",
           43.7175146,
           -79.5282822,
           1795,
           420,
           0,
           321.25,
           120,
           281.25,
           142.5,
           5,
           405431.25,
           1096,
           1012
          ],
          [
           "Playter Estates-Danforth",
           43.67970047,
           -79.35488729,
           720,
           931.25,
           0,
           652.5,
           62.5,
           201.25,
           1000,
           17.5,
           648859.25,
           1701.5,
           1198.25
          ],
          [
           "Pleasant View",
           43.78698176,
           -79.33494843,
           1026.25,
           1467.5,
           0,
           1978.75,
           272.5,
           71.25,
           676.25,
           6.25,
           373375.25,
           1175.75,
           1072
          ],
          [
           "Princess-Rosethorn",
           43.6660506,
           -79.54455929,
           3298.75,
           445,
           0,
           2.5,
           41.25,
           47.5,
           10,
           2.5,
           765746.5,
           1509.75,
           1239.75
          ],
          [
           "Regent Park",
           43.65999214,
           -79.36050881,
           15,
           2506.25,
           0,
           57.5,
           577.5,
           8.75,
           911.25,
           16.25,
           392578.25,
           1464.75,
           815.25
          ],
          [
           "Rexdale-Kipling",
           43.72372548,
           -79.56622841,
           1886.25,
           635,
           0,
           36.25,
           451.25,
           326.25,
           552.5,
           0,
           360999.25,
           1127.5,
           900.5
          ],
          [
           "Rockcliffe-Smythe",
           43.67479045,
           -79.49442045,
           2902.5,
           3225,
           1.25,
           1081.25,
           233.75,
           381.25,
           1043.75,
           0,
           345660.25,
           1134,
           867.5
          ],
          [
           "Roncesvalles",
           43.64612299,
           -79.44299245,
           843.75,
           1635,
           10,
           1148.75,
           356.25,
           390,
           2278.75,
           53.75,
           508937.25,
           1446,
           1037
          ],
          [
           "Rosedale-Moore Park",
           43.68282043,
           -79.3796694,
           2498.75,
           4641.25,
           0,
           486.25,
           245,
           327.5,
           1618.75,
           2.5,
           1093640,
           1909.75,
           1537.25
          ],
          [
           "Rouge",
           43.82120126,
           -79.18634345,
           6937.5,
           936.25,
           0,
           975,
           1621.25,
           732.5,
           608.75,
           6.25,
           376286.75,
           1395.25,
           1130
          ],
          [
           "Runnymede-Bloor West Village",
           43.65926882,
           -79.48570818,
           2058.75,
           1.25,
           0,
           760,
           47.5,
           261.25,
           683.75,
           7.5,
           552082,
           1462.25,
           1147
          ],
          [
           "Rustic",
           43.71160912,
           -79.49809147,
           1168.75,
           1945,
           0,
           198.75,
           2.5,
           71.25,
           208.75,
           3.75,
           431090.5,
           1032.75,
           791.75
          ],
          [
           "Scarborough Village",
           43.73865186,
           -79.21681262,
           1081.25,
           3948.75,
           0,
           32.5,
           206.25,
           138.75,
           320,
           0,
           329835.75,
           1214.5,
           903.75
          ],
          [
           "South Parkdale",
           43.63669952,
           -79.43933783,
           337.5,
           6557.5,
           5,
           243.75,
           278.75,
           192.5,
           2968.75,
           12.5,
           447478.5,
           1599.25,
           1019.5
          ],
          [
           "South Riverdale",
           43.64929206,
           -79.33565132,
           1005,
           1012.5,
           3.75,
           2686.25,
           1566.25,
           467.5,
           3823.75,
           85,
           455020.5,
           1416.75,
           971
          ],
          [
           "St.Andrew-Windfields",
           43.75624583,
           -79.37903709,
           3225,
           1670,
           0,
           185,
           552.5,
           97.5,
           586.25,
           5,
           999107,
           1880.25,
           1384.5
          ],
          [
           "Steeles",
           43.81295883,
           -79.32120701,
           3711.25,
           2592.5,
           1.25,
           190,
           558.75,
           275,
           257.5,
           0,
           376014.5,
           1153.25,
           1125.75
          ],
          [
           "Stonegate-Queensway",
           43.63551813,
           -79.50112821,
           5872.5,
           867.5,
           0,
           93.75,
           357.5,
           222.5,
           2788.75,
           6.25,
           550432.25,
           1288,
           1041.25
          ],
          [
           "Tam O'Shanter-Sullivan",
           43.78012985,
           -79.30291871,
           3168.75,
           4542.5,
           0,
           170,
           891.25,
           477.5,
           408.75,
           10,
           353926.5,
           1105,
           973.75
          ],
          [
           "Taylor-Massey",
           43.69499819,
           -79.29590112,
           622.5,
           4795,
           0,
           203.75,
           216.25,
           150,
           218.75,
           15,
           239414,
           1129.25,
           919.25
          ],
          [
           "The Beaches",
           43.67104999,
           -79.29960129999999,
           2642.5,
           488.75,
           1.25,
           1543.75,
           285,
           461.25,
           3770,
           23.75,
           666306,
           1707,
           1257.75
          ],
          [
           "Thistletown-Beaumond Heights",
           43.73798792,
           -79.56349102,
           1682.5,
           666.25,
           0,
           322.5,
           52.5,
           253.75,
           237.5,
           3.75,
           375864,
           1193.75,
           938.5
          ],
          [
           "Thorncliffe Park",
           43.70774921,
           -79.34998361,
           3.75,
           6318.75,
           0,
           0,
           141.25,
           0,
           187.5,
           5,
           255264.75,
           1304.25,
           1088.5
          ],
          [
           "Trinity-Bellwoods",
           43.6501763,
           -79.41534216,
           442.5,
           178.75,
           0,
           1023.75,
           1027.5,
           460,
           3310,
           168.75,
           534465.75,
           1373.75,
           1160
          ],
          [
           "University",
           43.6625062,
           -79.40117975,
           155,
           830,
           0,
           301.25,
           321.25,
           146.25,
           1252.5,
           46.25,
           618316.75,
           1447.25,
           1263
          ],
          [
           "Victoria Village",
           43.72848902,
           -79.31487383,
           1256.25,
           3150,
           0,
           315,
           308.75,
           130,
           2002.5,
           11.25,
           352133,
           1162.25,
           916.25
          ],
          [
           "Waterfront Communities-The Island",
           43.63388036,
           -79.37720231,
           267.5,
           21913.75,
           2.5,
           68.75,
           528.75,
           31.25,
           667.5,
           15,
           376863,
           1655.5,
           1438.75
          ],
          [
           "West Hill",
           43.76749026,
           -79.17667603,
           3250,
           3441.25,
           0,
           475,
           1252.5,
           576.25,
           575,
           16.25,
           284647.5,
           1071.5,
           761.25
          ],
          [
           "West Humber-Clairville",
           43.7161804,
           -79.59635645,
           4381.25,
           1725,
           0,
           273.75,
           1341.25,
           1345,
           505,
           2.5,
           343254.25,
           1215.25,
           986.25
          ],
          [
           "Westminster-Branson",
           43.77881322,
           -79.45241823,
           846.25,
           7665,
           0,
           642.5,
           400,
           117.5,
           277.5,
           12.5,
           349320.25,
           1319.5,
           1121.5
          ],
          [
           "Weston",
           43.70271605,
           -79.51572255,
           1742.5,
           4387.5,
           0,
           216.25,
           142.5,
           193.75,
           768.75,
           5,
           308007.75,
           1188.75,
           927.75
          ],
          [
           "Weston-Pellam Park",
           43.67396204,
           -79.46024391,
           650,
           553.75,
           1.25,
           1342.5,
           307.5,
           186.25,
           1135,
           21.25,
           351802,
           1150.25,
           804.5
          ],
          [
           "Wexford/Maryvale",
           43.74857214,
           -79.29863657,
           5482.5,
           1810,
           2.5,
           13.75,
           251.25,
           1313.75,
           1090,
           10,
           348319.25,
           1092.5,
           926.5
          ],
          [
           "Willowdale East",
           43.77060226,
           -79.40148379,
           3533.75,
           11598.75,
           6.25,
           63.75,
           736.25,
           205,
           1378.75,
           10,
           469045.5,
           1484.75,
           1424
          ],
          [
           "Willowdale West",
           43.77121049,
           -79.4275578,
           2178.75,
           3253.75,
           1.25,
           143.75,
           133.75,
           251.25,
           202.5,
           0,
           466134.75,
           1369.75,
           1149.75
          ],
          [
           "Willowridge-Martingrove-Richview",
           43.68364496,
           -79.55422105,
           3647.5,
           3373.75,
           0,
           531.25,
           277.5,
           183.75,
           42.5,
           0,
           464278,
           1181.75,
           1109.75
          ],
          [
           "Woburn",
           43.76674024,
           -79.22858577,
           6623.75,
           8898.75,
           1.25,
           326.25,
           241.25,
           1417.5,
           430,
           7.5,
           298505.75,
           1112,
           884.25
          ],
          [
           "Woodbine Corridor",
           43.67677292,
           -79.31540738,
           898.75,
           577.5,
           0,
           1646.25,
           253.75,
           161.25,
           1721.25,
           23.75,
           445382.75,
           1393,
           909
          ],
          [
           "Woodbine-Lumsden",
           43.69410674,
           -79.31116353,
           1938.75,
           633.75,
           0,
           323.75,
           21.25,
           257.5,
           303.75,
           7.5,
           369918.5,
           1256,
           906.5
          ],
          [
           "Wychwood",
           43.67691927,
           -79.42551495,
           1056.25,
           1236.25,
           0,
           992.5,
           298.75,
           325,
           1878.75,
           17.5,
           565976.5,
           1390.75,
           1017.25
          ],
          [
           "Yonge-Eglinton",
           43.70468937,
           -79.40359017,
           1468.75,
           1638.75,
           0,
           470,
           33.75,
           328.75,
           1385,
           6.25,
           809745.75,
           1799.5,
           1347.75
          ],
          [
           "Yonge-St.Clair",
           43.68785887,
           -79.39787077,
           565,
           3948.75,
           0,
           425,
           212.5,
           172.5,
           1308.75,
           6.25,
           813220.25,
           1680.75,
           1369
          ],
          [
           "York University Heights",
           43.76573649,
           -79.48888293,
           1355,
           5165,
           1.25,
           1316.25,
           662.5,
           188.75,
           1085,
           33.75,
           305899.5,
           1116.75,
           937.5
          ],
          [
           "Yorkdale-Glen Park",
           43.71467153,
           -79.45710807,
           2286.25,
           1347.5,
           0,
           73.75,
           450,
           377.5,
           722.5,
           7.5,
           430861.25,
           1122.5,
           942.5
          ]
         ],
         "hovertemplate": "<b>%{hovertext}</b><br><br>average_house_value=%{marker.color}<br>lat=%{customdata[1]}<br>lon=%{customdata[2]}<br>neighbourhood=%{customdata[0]}<br>single_detached_house=%{customdata[3]}<br>apartment_five_storeys_plus=%{customdata[4]}<br>movable_dwelling=%{customdata[5]}<br>semi_detached_house=%{customdata[6]}<br>row_house=%{customdata[7]}<br>duplex=%{customdata[8]}<br>apartment_five_storeys_less=%{customdata[9]}<br>other_house=%{customdata[10]}<br>shelter_costs_owned=%{customdata[12]}<br>shelter_costs_rented=%{customdata[13]}<extra></extra>",
         "hovertext": [
          "Agincourt North",
          "Agincourt South-Malvern West",
          "Alderwood",
          "Annex",
          "Banbury-Don Mills",
          "Bathurst Manor",
          "Bay Street Corridor",
          "Bayview Village",
          "Bayview Woods-Steeles",
          "Bedford Park-Nortown",
          "Beechborough-Greenbrook",
          "Bendale",
          "Birchcliffe-Cliffside",
          "Black Creek",
          "Blake-Jones",
          "Briar Hill-Belgravia",
          "Bridle Path-Sunnybrook-York Mills",
          "Broadview North",
          "Brookhaven-Amesbury",
          "Cabbagetown-South St.James Town",
          "Caledonia-Fairbank",
          "Casa Loma",
          "Centennial Scarborough",
          "Church-Yonge Corridor",
          "Clairlea-Birchmount",
          "Clanton Park",
          "Cliffcrest",
          "Corso Italia-Davenport",
          "Danforth",
          "Danforth-East York",
          "Don Valley Village",
          "Dorset Park",
          "Dovercourt-Wallace Emerson-Juncti",
          "Downsview-Roding-CFB",
          "Dufferin Grove",
          "East End-Danforth",
          "Edenbridge-Humber Valley",
          "Eglinton East",
          "Elms-Old Rexdale",
          "Englemount-Lawrence",
          "Eringate-Centennial-West Deane",
          "Etobicoke West Mall",
          "Flemingdon Park",
          "Forest Hill North",
          "Forest Hill South",
          "Glenfield-Jane Heights",
          "Greenwood-Coxwell",
          "Guildwood",
          "Henry Farm",
          "High Park North",
          "High Park-Swansea",
          "Highland Creek",
          "Hillcrest Village",
          "Humber Heights-Westmount",
          "Humber Summit",
          "Humbermede",
          "Humewood-Cedarvale",
          "Ionview",
          "Islington-City Centre West",
          "Junction Area",
          "Keelesdale-Eglinton West",
          "Kennedy Park",
          "Kensington-Chinatown",
          "Kingsview Village-The Westway",
          "Kingsway South",
          "L'Amoreaux",
          "Lambton Baby Point",
          "Lansing-Westgate",
          "Lawrence Park North",
          "Lawrence Park South",
          "Leaside-Bennington",
          "Little Portugal",
          "Long Branch",
          "Malvern",
          "Maple Leaf",
          "Markland Wood",
          "Milliken",
          "Mimico",
          "Morningside",
          "Moss Park",
          "Mount Dennis",
          "Mount Olive-Silverstone-Jamestown",
          "Mount Pleasant East",
          "Mount Pleasant West",
          "New Toronto",
          "Newtonbrook East",
          "Newtonbrook West",
          "Niagara",
          "North Riverdale",
          "North St.James Town",
          "O'Connor-Parkview",
          "Oakridge",
          "Oakwood Village",
          "Old East York",
          "Palmerston-Little Italy",
          "Parkwoods-Donalda",
          "Pelmo Park-Humberlea",
          "Playter Estates-Danforth",
          "Pleasant View",
          "Princess-Rosethorn",
          "Regent Park",
          "Rexdale-Kipling",
          "Rockcliffe-Smythe",
          "Roncesvalles",
          "Rosedale-Moore Park",
          "Rouge",
          "Runnymede-Bloor West Village",
          "Rustic",
          "Scarborough Village",
          "South Parkdale",
          "South Riverdale",
          "St.Andrew-Windfields",
          "Steeles",
          "Stonegate-Queensway",
          "Tam O'Shanter-Sullivan",
          "Taylor-Massey",
          "The Beaches",
          "Thistletown-Beaumond Heights",
          "Thorncliffe Park",
          "Trinity-Bellwoods",
          "University",
          "Victoria Village",
          "Waterfront Communities-The Island",
          "West Hill",
          "West Humber-Clairville",
          "Westminster-Branson",
          "Weston",
          "Weston-Pellam Park",
          "Wexford/Maryvale",
          "Willowdale East",
          "Willowdale West",
          "Willowridge-Martingrove-Richview",
          "Woburn",
          "Woodbine Corridor",
          "Woodbine-Lumsden",
          "Wychwood",
          "Yonge-Eglinton",
          "Yonge-St.Clair",
          "York University Heights",
          "Yorkdale-Glen Park"
         ],
         "lat": [
          43.80544058,
          43.78865755,
          43.6049369,
          43.67158544,
          43.737657,
          43.76481331,
          43.65751135,
          43.77636052,
          43.79680187,
          43.73148623,
          43.69321649,
          43.76036631,
          43.69468198,
          43.76489025,
          43.67617288,
          43.69902438,
          43.73101314,
          43.68882512,
          43.70132631,
          43.66764773,
          43.68856865,
          43.6818521,
          43.7823765,
          43.65964886,
          43.71359238,
          43.74197843,
          43.72112117,
          43.67766091,
          43.68402547,
          43.68946809,
          43.78329369,
          43.75927437,
          43.66567693,
          43.73329235,
          43.65542833,
          43.68417388,
          43.67088591,
          43.7409223,
          43.72151887,
          43.72034467,
          43.65801676,
          43.64506262,
          43.71592975,
          43.70421756,
          43.69452576,
          43.74563575,
          43.67261231,
          43.74882934,
          43.77114414,
          43.65756491,
          43.64506458,
          43.79077477,
          43.80298783,
          43.6922328,
          43.75891975,
          43.74342952,
          43.69136981,
          43.73536441,
          43.63346335,
          43.66788977,
          43.68572747,
          43.72555572,
          43.65355413,
          43.69899257,
          43.65352043,
          43.79571603,
          43.65742013,
          43.75427115,
          43.73006017,
          43.7172117,
          43.70379663,
          43.64753593,
          43.59236169,
          43.80365820000001,
          43.71557394,
          43.63354175,
          43.82069079,
          43.61592386,
          43.78239861,
          43.65651762,
          43.68814409,
          43.7468678,
          43.70485217,
          43.70443517,
          43.6005886,
          43.79153579,
          43.78582994,
          43.63668088,
          43.67199515,
          43.66962341,
          43.70680049,
          43.69740813,
          43.68856556,
          43.69678127,
          43.6591571,
          43.75503347,
          43.7175146,
          43.67970047,
          43.78698176,
          43.6660506,
          43.65999214,
          43.72372548,
          43.67479045,
          43.64612299,
          43.68282043,
          43.82120126,
          43.65926882,
          43.71160912,
          43.73865186,
          43.63669952,
          43.64929206,
          43.75624583,
          43.81295883,
          43.63551813,
          43.78012985,
          43.69499819,
          43.67104999,
          43.73798792,
          43.70774921,
          43.6501763,
          43.6625062,
          43.72848902,
          43.63388036,
          43.76749026,
          43.7161804,
          43.77881322,
          43.70271605,
          43.67396204,
          43.74857214,
          43.77060226,
          43.77121049,
          43.68364496,
          43.76674024,
          43.67677292,
          43.69410674,
          43.67691927,
          43.70468937,
          43.68785887,
          43.76573649,
          43.71467153
         ],
         "legendgroup": "",
         "lon": [
          -79.26671217,
          -79.2656118,
          -79.54161093,
          -79.40400062,
          -79.34971798,
          -79.45605516,
          -79.38572125,
          -79.37711686,
          -79.38211795,
          -79.42022735,
          -79.47947251,
          -79.25740037,
          -79.26509259,
          -79.52197932,
          -79.33739417,
          -79.45285129999999,
          -79.37890418,
          -79.35562951,
          -79.48558926,
          -79.36610666,
          -79.45521208,
          -79.40800665,
          -79.15084327,
          -79.37901717,
          -79.28138178,
          -79.44630258,
          -79.23552957,
          -79.44746933,
          -79.32981941,
          -79.33140338,
          -79.35364413,
          -79.27890794,
          -79.4385407,
          -79.49049735,
          -79.43734104,
          -79.29935867,
          -79.52245776,
          -79.24559804,
          -79.54898272,
          -79.43740855,
          -79.58044524,
          -79.56893877,
          -79.33264597,
          -79.42814316,
          -79.41431786,
          -79.51346532,
          -79.32431802,
          -79.19505535,
          -79.34124067,
          -79.46630217,
          -79.46787222,
          -79.17747247,
          -79.354804,
          -79.5224162,
          -79.55617474,
          -79.54236712,
          -79.42768335,
          -79.27247049,
          -79.54331654,
          -79.47143987,
          -79.47143711,
          -79.26038221,
          -79.39723988,
          -79.54786331,
          -79.5105768,
          -79.31408424,
          -79.49604526,
          -79.42474772,
          -79.40397836,
          -79.40603941,
          -79.36607234,
          -79.43032271,
          -79.53334545,
          -79.22251662,
          -79.48075802,
          -79.57343155,
          -79.27500892,
          -79.50013664,
          -79.20704119,
          -79.36729703,
          -79.49998906,
          -79.58725926,
          -79.38492395,
          -79.39335955,
          -79.51035809,
          -79.40593745,
          -79.43142151,
          -79.4124204,
          -79.35126041,
          -79.37524658,
          -79.31222777,
          -79.27970834,
          -79.43978548,
          -79.33548836,
          -79.41840873,
          -79.33017952,
          -79.5282822,
          -79.35488729,
          -79.33494843,
          -79.54455929,
          -79.36050881,
          -79.56622841,
          -79.49442045,
          -79.44299245,
          -79.3796694,
          -79.18634345,
          -79.48570818,
          -79.49809147,
          -79.21681262,
          -79.43933783,
          -79.33565132,
          -79.37903709,
          -79.32120701,
          -79.50112821,
          -79.30291871,
          -79.29590112,
          -79.29960129999999,
          -79.56349102,
          -79.34998361,
          -79.41534216,
          -79.40117975,
          -79.31487383,
          -79.37720231,
          -79.17667603,
          -79.59635645,
          -79.45241823,
          -79.51572255,
          -79.46024391,
          -79.29863657,
          -79.40148379,
          -79.4275578,
          -79.55422105,
          -79.22858577,
          -79.31540738,
          -79.31116353,
          -79.42551495,
          -79.40359017,
          -79.39787077,
          -79.48888293,
          -79.45710807
         ],
         "marker": {
          "color": [
           329811.5,
           334189,
           427922.5,
           746977,
           612039,
           501576.75,
           423653.5,
           539258.75,
           565413.5,
           930415.25,
           370927.75,
           301123.25,
           437315,
           260841.75,
           511437,
           365524.5,
           1526485.75,
           443373.25,
           350943,
           494110.5,
           361714.25,
           981064.25,
           409862.75,
           406117.5,
           354555.25,
           551561.25,
           417422,
           419930.5,
           466943,
           421679.25,
           398010.25,
           262000.25,
           434699.5,
           381415.5,
           457588.75,
           478054.25,
           796162.5,
           268966.5,
           268341.25,
           568936.75,
           397781.75,
           309412,
           207799,
           851680.5,
           1195992.5,
           327597.75,
           387055.5,
           369373.5,
           369958,
           532497,
           582977.75,
           428838.5,
           395023,
           449150.5,
           352082.5,
           319783.75,
           697085.5,
           287685.75,
           451685.25,
           433269.25,
           322774.75,
           287233.5,
           440485.75,
           338344.75,
           843234.25,
           650307.75,
           336617.75,
           613216.5,
           759392.5,
           1094027.75,
           806471.75,
           540192.5,
           385830.25,
           256880.25,
           453229,
           443974.75,
           344988.25,
           393490.5,
           285013.5,
           409456,
           262308.75,
           253182.25,
           677370.25,
           468181.75,
           407812,
           559573.25,
           460568.5,
           369993,
           703063.25,
           411455.75,
           298315.75,
           422257.5,
           441202.75,
           443413.5,
           622191.75,
           454652.5,
           405431.25,
           648859.25,
           373375.25,
           765746.5,
           392578.25,
           360999.25,
           345660.25,
           508937.25,
           1093640,
           376286.75,
           552082,
           431090.5,
           329835.75,
           447478.5,
           455020.5,
           999107,
           376014.5,
           550432.25,
           353926.5,
           239414,
           666306,
           375864,
           255264.75,
           534465.75,
           618316.75,
           352133,
           376863,
           284647.5,
           343254.25,
           349320.25,
           308007.75,
           351802,
           348319.25,
           469045.5,
           466134.75,
           464278,
           298505.75,
           445382.75,
           369918.5,
           565976.5,
           809745.75,
           813220.25,
           305899.5,
           430861.25
          ],
          "coloraxis": "coloraxis",
          "size": [
           329811.5,
           334189,
           427922.5,
           746977,
           612039,
           501576.75,
           423653.5,
           539258.75,
           565413.5,
           930415.25,
           370927.75,
           301123.25,
           437315,
           260841.75,
           511437,
           365524.5,
           1526485.75,
           443373.25,
           350943,
           494110.5,
           361714.25,
           981064.25,
           409862.75,
           406117.5,
           354555.25,
           551561.25,
           417422,
           419930.5,
           466943,
           421679.25,
           398010.25,
           262000.25,
           434699.5,
           381415.5,
           457588.75,
           478054.25,
           796162.5,
           268966.5,
           268341.25,
           568936.75,
           397781.75,
           309412,
           207799,
           851680.5,
           1195992.5,
           327597.75,
           387055.5,
           369373.5,
           369958,
           532497,
           582977.75,
           428838.5,
           395023,
           449150.5,
           352082.5,
           319783.75,
           697085.5,
           287685.75,
           451685.25,
           433269.25,
           322774.75,
           287233.5,
           440485.75,
           338344.75,
           843234.25,
           650307.75,
           336617.75,
           613216.5,
           759392.5,
           1094027.75,
           806471.75,
           540192.5,
           385830.25,
           256880.25,
           453229,
           443974.75,
           344988.25,
           393490.5,
           285013.5,
           409456,
           262308.75,
           253182.25,
           677370.25,
           468181.75,
           407812,
           559573.25,
           460568.5,
           369993,
           703063.25,
           411455.75,
           298315.75,
           422257.5,
           441202.75,
           443413.5,
           622191.75,
           454652.5,
           405431.25,
           648859.25,
           373375.25,
           765746.5,
           392578.25,
           360999.25,
           345660.25,
           508937.25,
           1093640,
           376286.75,
           552082,
           431090.5,
           329835.75,
           447478.5,
           455020.5,
           999107,
           376014.5,
           550432.25,
           353926.5,
           239414,
           666306,
           375864,
           255264.75,
           534465.75,
           618316.75,
           352133,
           376863,
           284647.5,
           343254.25,
           349320.25,
           308007.75,
           351802,
           348319.25,
           469045.5,
           466134.75,
           464278,
           298505.75,
           445382.75,
           369918.5,
           565976.5,
           809745.75,
           813220.25,
           305899.5,
           430861.25
          ],
          "sizemode": "area",
          "sizeref": 3816.214375
         },
         "mode": "markers",
         "name": "",
         "showlegend": false,
         "subplot": "mapbox",
         "type": "scattermapbox"
        }
       ],
       "layout": {
        "autosize": true,
        "coloraxis": {
         "colorbar": {
          "title": {
           "text": "average_house_value"
          }
         },
         "colorscale": [
          [
           0,
           "#0d0887"
          ],
          [
           0.1111111111111111,
           "#46039f"
          ],
          [
           0.2222222222222222,
           "#7201a8"
          ],
          [
           0.3333333333333333,
           "#9c179e"
          ],
          [
           0.4444444444444444,
           "#bd3786"
          ],
          [
           0.5555555555555556,
           "#d8576b"
          ],
          [
           0.6666666666666666,
           "#ed7953"
          ],
          [
           0.7777777777777778,
           "#fb9f3a"
          ],
          [
           0.8888888888888888,
           "#fdca26"
          ],
          [
           1,
           "#f0f921"
          ]
         ]
        },
        "legend": {
         "itemsizing": "constant",
         "tracegroupgap": 0
        },
        "mapbox": {
         "accesstoken": "pk.eyJ1Ijoic2F2YWdlZGF2aWQiLCJhIjoiY2tjMmZtand6MjM2bTJzcWR5bWN4aWtxNCJ9.W9BDsW9T__lGKD5gPSNCSg",
         "center": {
          "lat": 43.708840577642846,
          "lon": -79.4001855035
         },
         "domain": {
          "x": [
           0,
           1
          ],
          "y": [
           0,
           1
          ]
         },
         "zoom": 9
        },
        "template": {
         "data": {
          "bar": [
           {
            "error_x": {
             "color": "#2a3f5f"
            },
            "error_y": {
             "color": "#2a3f5f"
            },
            "marker": {
             "line": {
              "color": "#E5ECF6",
              "width": 0.5
             }
            },
            "type": "bar"
           }
          ],
          "barpolar": [
           {
            "marker": {
             "line": {
              "color": "#E5ECF6",
              "width": 0.5
             }
            },
            "type": "barpolar"
           }
          ],
          "carpet": [
           {
            "aaxis": {
             "endlinecolor": "#2a3f5f",
             "gridcolor": "white",
             "linecolor": "white",
             "minorgridcolor": "white",
             "startlinecolor": "#2a3f5f"
            },
            "baxis": {
             "endlinecolor": "#2a3f5f",
             "gridcolor": "white",
             "linecolor": "white",
             "minorgridcolor": "white",
             "startlinecolor": "#2a3f5f"
            },
            "type": "carpet"
           }
          ],
          "choropleth": [
           {
            "colorbar": {
             "outlinewidth": 0,
             "ticks": ""
            },
            "type": "choropleth"
           }
          ],
          "contour": [
           {
            "colorbar": {
             "outlinewidth": 0,
             "ticks": ""
            },
            "colorscale": [
             [
              0,
              "#0d0887"
             ],
             [
              0.1111111111111111,
              "#46039f"
             ],
             [
              0.2222222222222222,
              "#7201a8"
             ],
             [
              0.3333333333333333,
              "#9c179e"
             ],
             [
              0.4444444444444444,
              "#bd3786"
             ],
             [
              0.5555555555555556,
              "#d8576b"
             ],
             [
              0.6666666666666666,
              "#ed7953"
             ],
             [
              0.7777777777777778,
              "#fb9f3a"
             ],
             [
              0.8888888888888888,
              "#fdca26"
             ],
             [
              1,
              "#f0f921"
             ]
            ],
            "type": "contour"
           }
          ],
          "contourcarpet": [
           {
            "colorbar": {
             "outlinewidth": 0,
             "ticks": ""
            },
            "type": "contourcarpet"
           }
          ],
          "heatmap": [
           {
            "colorbar": {
             "outlinewidth": 0,
             "ticks": ""
            },
            "colorscale": [
             [
              0,
              "#0d0887"
             ],
             [
              0.1111111111111111,
              "#46039f"
             ],
             [
              0.2222222222222222,
              "#7201a8"
             ],
             [
              0.3333333333333333,
              "#9c179e"
             ],
             [
              0.4444444444444444,
              "#bd3786"
             ],
             [
              0.5555555555555556,
              "#d8576b"
             ],
             [
              0.6666666666666666,
              "#ed7953"
             ],
             [
              0.7777777777777778,
              "#fb9f3a"
             ],
             [
              0.8888888888888888,
              "#fdca26"
             ],
             [
              1,
              "#f0f921"
             ]
            ],
            "type": "heatmap"
           }
          ],
          "heatmapgl": [
           {
            "colorbar": {
             "outlinewidth": 0,
             "ticks": ""
            },
            "colorscale": [
             [
              0,
              "#0d0887"
             ],
             [
              0.1111111111111111,
              "#46039f"
             ],
             [
              0.2222222222222222,
              "#7201a8"
             ],
             [
              0.3333333333333333,
              "#9c179e"
             ],
             [
              0.4444444444444444,
              "#bd3786"
             ],
             [
              0.5555555555555556,
              "#d8576b"
             ],
             [
              0.6666666666666666,
              "#ed7953"
             ],
             [
              0.7777777777777778,
              "#fb9f3a"
             ],
             [
              0.8888888888888888,
              "#fdca26"
             ],
             [
              1,
              "#f0f921"
             ]
            ],
            "type": "heatmapgl"
           }
          ],
          "histogram": [
           {
            "marker": {
             "colorbar": {
              "outlinewidth": 0,
              "ticks": ""
             }
            },
            "type": "histogram"
           }
          ],
          "histogram2d": [
           {
            "colorbar": {
             "outlinewidth": 0,
             "ticks": ""
            },
            "colorscale": [
             [
              0,
              "#0d0887"
             ],
             [
              0.1111111111111111,
              "#46039f"
             ],
             [
              0.2222222222222222,
              "#7201a8"
             ],
             [
              0.3333333333333333,
              "#9c179e"
             ],
             [
              0.4444444444444444,
              "#bd3786"
             ],
             [
              0.5555555555555556,
              "#d8576b"
             ],
             [
              0.6666666666666666,
              "#ed7953"
             ],
             [
              0.7777777777777778,
              "#fb9f3a"
             ],
             [
              0.8888888888888888,
              "#fdca26"
             ],
             [
              1,
              "#f0f921"
             ]
            ],
            "type": "histogram2d"
           }
          ],
          "histogram2dcontour": [
           {
            "colorbar": {
             "outlinewidth": 0,
             "ticks": ""
            },
            "colorscale": [
             [
              0,
              "#0d0887"
             ],
             [
              0.1111111111111111,
              "#46039f"
             ],
             [
              0.2222222222222222,
              "#7201a8"
             ],
             [
              0.3333333333333333,
              "#9c179e"
             ],
             [
              0.4444444444444444,
              "#bd3786"
             ],
             [
              0.5555555555555556,
              "#d8576b"
             ],
             [
              0.6666666666666666,
              "#ed7953"
             ],
             [
              0.7777777777777778,
              "#fb9f3a"
             ],
             [
              0.8888888888888888,
              "#fdca26"
             ],
             [
              1,
              "#f0f921"
             ]
            ],
            "type": "histogram2dcontour"
           }
          ],
          "mesh3d": [
           {
            "colorbar": {
             "outlinewidth": 0,
             "ticks": ""
            },
            "type": "mesh3d"
           }
          ],
          "parcoords": [
           {
            "line": {
             "colorbar": {
              "outlinewidth": 0,
              "ticks": ""
             }
            },
            "type": "parcoords"
           }
          ],
          "pie": [
           {
            "automargin": true,
            "type": "pie"
           }
          ],
          "scatter": [
           {
            "marker": {
             "colorbar": {
              "outlinewidth": 0,
              "ticks": ""
             }
            },
            "type": "scatter"
           }
          ],
          "scatter3d": [
           {
            "line": {
             "colorbar": {
              "outlinewidth": 0,
              "ticks": ""
             }
            },
            "marker": {
             "colorbar": {
              "outlinewidth": 0,
              "ticks": ""
             }
            },
            "type": "scatter3d"
           }
          ],
          "scattercarpet": [
           {
            "marker": {
             "colorbar": {
              "outlinewidth": 0,
              "ticks": ""
             }
            },
            "type": "scattercarpet"
           }
          ],
          "scattergeo": [
           {
            "marker": {
             "colorbar": {
              "outlinewidth": 0,
              "ticks": ""
             }
            },
            "type": "scattergeo"
           }
          ],
          "scattergl": [
           {
            "marker": {
             "colorbar": {
              "outlinewidth": 0,
              "ticks": ""
             }
            },
            "type": "scattergl"
           }
          ],
          "scattermapbox": [
           {
            "marker": {
             "colorbar": {
              "outlinewidth": 0,
              "ticks": ""
             }
            },
            "type": "scattermapbox"
           }
          ],
          "scatterpolar": [
           {
            "marker": {
             "colorbar": {
              "outlinewidth": 0,
              "ticks": ""
             }
            },
            "type": "scatterpolar"
           }
          ],
          "scatterpolargl": [
           {
            "marker": {
             "colorbar": {
              "outlinewidth": 0,
              "ticks": ""
             }
            },
            "type": "scatterpolargl"
           }
          ],
          "scatterternary": [
           {
            "marker": {
             "colorbar": {
              "outlinewidth": 0,
              "ticks": ""
             }
            },
            "type": "scatterternary"
           }
          ],
          "surface": [
           {
            "colorbar": {
             "outlinewidth": 0,
             "ticks": ""
            },
            "colorscale": [
             [
              0,
              "#0d0887"
             ],
             [
              0.1111111111111111,
              "#46039f"
             ],
             [
              0.2222222222222222,
              "#7201a8"
             ],
             [
              0.3333333333333333,
              "#9c179e"
             ],
             [
              0.4444444444444444,
              "#bd3786"
             ],
             [
              0.5555555555555556,
              "#d8576b"
             ],
             [
              0.6666666666666666,
              "#ed7953"
             ],
             [
              0.7777777777777778,
              "#fb9f3a"
             ],
             [
              0.8888888888888888,
              "#fdca26"
             ],
             [
              1,
              "#f0f921"
             ]
            ],
            "type": "surface"
           }
          ],
          "table": [
           {
            "cells": {
             "fill": {
              "color": "#EBF0F8"
             },
             "line": {
              "color": "white"
             }
            },
            "header": {
             "fill": {
              "color": "#C8D4E3"
             },
             "line": {
              "color": "white"
             }
            },
            "type": "table"
           }
          ]
         },
         "layout": {
          "annotationdefaults": {
           "arrowcolor": "#2a3f5f",
           "arrowhead": 0,
           "arrowwidth": 1
          },
          "coloraxis": {
           "colorbar": {
            "outlinewidth": 0,
            "ticks": ""
           }
          },
          "colorscale": {
           "diverging": [
            [
             0,
             "#8e0152"
            ],
            [
             0.1,
             "#c51b7d"
            ],
            [
             0.2,
             "#de77ae"
            ],
            [
             0.3,
             "#f1b6da"
            ],
            [
             0.4,
             "#fde0ef"
            ],
            [
             0.5,
             "#f7f7f7"
            ],
            [
             0.6,
             "#e6f5d0"
            ],
            [
             0.7,
             "#b8e186"
            ],
            [
             0.8,
             "#7fbc41"
            ],
            [
             0.9,
             "#4d9221"
            ],
            [
             1,
             "#276419"
            ]
           ],
           "sequential": [
            [
             0,
             "#0d0887"
            ],
            [
             0.1111111111111111,
             "#46039f"
            ],
            [
             0.2222222222222222,
             "#7201a8"
            ],
            [
             0.3333333333333333,
             "#9c179e"
            ],
            [
             0.4444444444444444,
             "#bd3786"
            ],
            [
             0.5555555555555556,
             "#d8576b"
            ],
            [
             0.6666666666666666,
             "#ed7953"
            ],
            [
             0.7777777777777778,
             "#fb9f3a"
            ],
            [
             0.8888888888888888,
             "#fdca26"
            ],
            [
             1,
             "#f0f921"
            ]
           ],
           "sequentialminus": [
            [
             0,
             "#0d0887"
            ],
            [
             0.1111111111111111,
             "#46039f"
            ],
            [
             0.2222222222222222,
             "#7201a8"
            ],
            [
             0.3333333333333333,
             "#9c179e"
            ],
            [
             0.4444444444444444,
             "#bd3786"
            ],
            [
             0.5555555555555556,
             "#d8576b"
            ],
            [
             0.6666666666666666,
             "#ed7953"
            ],
            [
             0.7777777777777778,
             "#fb9f3a"
            ],
            [
             0.8888888888888888,
             "#fdca26"
            ],
            [
             1,
             "#f0f921"
            ]
           ]
          },
          "colorway": [
           "#636efa",
           "#EF553B",
           "#00cc96",
           "#ab63fa",
           "#FFA15A",
           "#19d3f3",
           "#FF6692",
           "#B6E880",
           "#FF97FF",
           "#FECB52"
          ],
          "font": {
           "color": "#2a3f5f"
          },
          "geo": {
           "bgcolor": "white",
           "lakecolor": "white",
           "landcolor": "#E5ECF6",
           "showlakes": true,
           "showland": true,
           "subunitcolor": "white"
          },
          "hoverlabel": {
           "align": "left"
          },
          "hovermode": "closest",
          "mapbox": {
           "style": "light"
          },
          "paper_bgcolor": "white",
          "plot_bgcolor": "#E5ECF6",
          "polar": {
           "angularaxis": {
            "gridcolor": "white",
            "linecolor": "white",
            "ticks": ""
           },
           "bgcolor": "#E5ECF6",
           "radialaxis": {
            "gridcolor": "white",
            "linecolor": "white",
            "ticks": ""
           }
          },
          "scene": {
           "xaxis": {
            "backgroundcolor": "#E5ECF6",
            "gridcolor": "white",
            "gridwidth": 2,
            "linecolor": "white",
            "showbackground": true,
            "ticks": "",
            "zerolinecolor": "white"
           },
           "yaxis": {
            "backgroundcolor": "#E5ECF6",
            "gridcolor": "white",
            "gridwidth": 2,
            "linecolor": "white",
            "showbackground": true,
            "ticks": "",
            "zerolinecolor": "white"
           },
           "zaxis": {
            "backgroundcolor": "#E5ECF6",
            "gridcolor": "white",
            "gridwidth": 2,
            "linecolor": "white",
            "showbackground": true,
            "ticks": "",
            "zerolinecolor": "white"
           }
          },
          "shapedefaults": {
           "line": {
            "color": "#2a3f5f"
           }
          },
          "ternary": {
           "aaxis": {
            "gridcolor": "white",
            "linecolor": "white",
            "ticks": ""
           },
           "baxis": {
            "gridcolor": "white",
            "linecolor": "white",
            "ticks": ""
           },
           "bgcolor": "#E5ECF6",
           "caxis": {
            "gridcolor": "white",
            "linecolor": "white",
            "ticks": ""
           }
          },
          "title": {
           "x": 0.05
          },
          "xaxis": {
           "automargin": true,
           "gridcolor": "white",
           "linecolor": "white",
           "ticks": "",
           "title": {
            "standoff": 15
           },
           "zerolinecolor": "white",
           "zerolinewidth": 2
          },
          "yaxis": {
           "automargin": true,
           "gridcolor": "white",
           "linecolor": "white",
           "ticks": "",
           "title": {
            "standoff": 15
           },
           "zerolinecolor": "white",
           "zerolinewidth": 2
          }
         }
        },
        "title": {
         "text": "Average House Values in Toronto"
        }
       }
      },
      "image/png": "[encoded data removed]",
      "text/html": [
       "<div>\n",
       "        \n",
       "        \n",
       "            <div id=\"c44084d8-d4fd-439e-89d3-3da68eec6cea\" class=\"plotly-graph-div\" style=\"height:525px; width:100%;\"></div>\n",
       "            <script type=\"text/javascript\">\n",
       "                require([\"plotly\"], function(Plotly) {\n",
       "                    window.PLOTLYENV=window.PLOTLYENV || {};\n",
       "                    \n",
       "                if (document.getElementById(\"c44084d8-d4fd-439e-89d3-3da68eec6cea\")) {\n",
       "                    Plotly.newPlot(\n",
       "                        'c44084d8-d4fd-439e-89d3-3da68eec6cea',\n",
       "                        [{\"customdata\": [[\"Agincourt North\", 43.80544058, -79.26671217, 3435.0, 1947.5, 2.5, 863.75, 1406.25, 512.5, 547.5, 10.0, 329811.5, 1109.0, 983.5], [\"Agincourt South-Malvern West\", 43.78865755, -79.2656118, 2897.5, 2180.0, 1.25, 375.0, 456.25, 523.75, 628.75, 32.5, 334189.0, 1131.25, 985.0], [\"Alderwood\", 43.6049369, -79.54161093, 2903.75, 302.5, 1.25, 503.75, 76.25, 302.5, 502.5, 1.25, 427922.5, 1166.75, 1003.25], [\"Annex\", 43.67158544, -79.40400062, 751.25, 7235.0, 1.25, 1375.0, 613.75, 355.0, 4605.0, 83.75, 746977.0, 1692.75, 1315.25], [\"Banbury-Don Mills\", 43.737657, -79.34971798, 3572.5, 5388.75, 1.25, 273.75, 626.25, 32.5, 1340.0, 0.0, 612039.0, 1463.5, 1242.75], [\"Bathurst Manor\", 43.76481331, -79.45605516, 2131.25, 1815.0, 0.0, 151.25, 70.0, 677.5, 973.75, 8.75, 501576.75, 1307.0, 1059.5], [\"Bay Street Corridor\", 43.65751135, -79.38572125, 3.75, 10470.0, 0.0, 1.25, 18.75, 1.25, 271.25, 2.5, 423653.5, 1494.5, 1436.75], [\"Bayview Village\", 43.77636052, -79.37711686, 2101.25, 3222.5, 2.5, 141.25, 830.0, 70.0, 500.0, 2.5, 539258.75, 1512.75, 1422.0], [\"Bayview Woods-Steeles\", 43.79680187, -79.38211795, 1585.0, 1700.0, 0.0, 580.0, 175.0, 86.25, 522.5, 1.25, 565413.5, 1364.25, 1399.5], [\"Bedford Park-Nortown\", 43.73148623, -79.42022735, 4865.0, 1981.25, 0.0, 43.75, 57.5, 287.5, 1275.0, 88.75, 930415.25, 1786.75, 1255.0], [\"Beechborough-Greenbrook\", 43.69321649, -79.47947251, 686.25, 671.25, 0.0, 70.0, 16.25, 97.5, 1060.0, 3.75, 370927.75, 1029.25, 797.5], [\"Bendale\", 43.76036631, -79.25740037, 3993.75, 3582.5, 2.5, 323.75, 258.75, 921.25, 330.0, 10.0, 301123.25, 1151.25, 994.5], [\"Birchcliffe-Cliffside\", 43.69468198, -79.26509259, 5045.0, 920.0, 0.0, 418.75, 47.5, 781.25, 1957.5, 26.25, 437315.0, 1228.75, 918.75], [\"Black Creek\", 43.76489025, -79.52197932, 732.5, 4356.25, 0.0, 685.0, 1116.25, 113.75, 238.75, 2.5, 260841.75, 1011.75, 864.5], [\"Blake-Jones\", 43.67617288, -79.33739417, 526.25, 491.25, 0.0, 810.0, 380.0, 151.25, 748.75, 25.0, 511437.0, 1359.25, 897.75], [\"Briar Hill-Belgravia\", 43.69902438, -79.45285129999999, 1713.75, 2401.25, 0.0, 150.0, 37.5, 351.25, 1035.0, 5.0, 365524.5, 1304.25, 1030.25], [\"Bridle Path-Sunnybrook-York Mills\", 43.73101314, -79.37890418, 2260.0, 331.25, 0.0, 36.25, 90.0, 25.0, 40.0, 0.0, 1526485.75, 2360.75, 2321.75], [\"Broadview North\", 43.68882512, -79.35562951, 880.0, 3213.75, 0.0, 448.75, 81.25, 112.5, 793.75, 1.25, 443373.25, 1320.25, 1007.75], [\"Brookhaven-Amesbury\", 43.70132631, -79.48558926, 1775.0, 3568.75, 0.0, 255.0, 8.75, 108.75, 501.25, 6.25, 350943.0, 1151.25, 932.5], [\"Cabbagetown-South St.James Town\", 43.66764773, -79.36610666, 268.75, 3322.5, 0.0, 451.25, 615.0, 127.5, 1422.5, 12.5, 494110.5, 1479.25, 1072.25], [\"Caledonia-Fairbank\", 43.68856865, -79.45521208, 1757.5, 166.25, 0.0, 421.25, 18.75, 371.25, 853.75, 5.0, 361714.25, 1239.25, 989.0], [\"Casa Loma\", 43.6818521, -79.40800665, 916.25, 2310.0, 0.0, 288.75, 201.25, 162.5, 1192.5, 2.5, 981064.25, 1873.75, 1547.75], [\"Centennial Scarborough\", 43.7823765, -79.15084327, 3341.25, 0.0, 2.5, 166.25, 420.0, 125.0, 40.0, 5.0, 409862.75, 1331.5, 1148.75], [\"Church-Yonge Corridor\", 43.65964886, -79.37901717, 28.75, 15042.5, 1.25, 32.5, 231.25, 38.75, 1337.5, 27.5, 406117.5, 1539.0, 1202.75], [\"Clairlea-Birchmount\", 43.71359238, -79.28138178, 3223.75, 1746.25, 2.5, 890.0, 525.0, 563.75, 1020.0, 28.75, 354555.25, 1241.0, 952.0], [\"Clanton Park\", 43.74197843, -79.44630258, 2480.0, 1352.5, 6.25, 11.25, 12.5, 517.5, 1256.25, 15.0, 551561.25, 1394.25, 1024.0], [\"Cliffcrest\", 43.72112117, -79.23552957, 3407.5, 1317.5, 1.25, 63.75, 342.5, 372.5, 147.5, 43.75, 417422.0, 1227.5, 911.25], [\"Corso Italia-Davenport\", 43.67766091, -79.44746933, 1451.25, 3.75, 0.0, 1375.0, 103.75, 482.5, 1811.25, 35.0, 419930.5, 1217.5, 986.75], [\"Danforth\", 43.68402547, -79.32981941, 708.75, 337.5, 0.0, 1350.0, 33.75, 197.5, 1275.0, 30.0, 466943.0, 1343.25, 930.75], [\"Danforth-East York\", 43.68946809, -79.33140338, 3001.25, 778.75, 0.0, 1721.25, 32.5, 512.5, 856.25, 30.0, 421679.25, 1265.0, 982.0], [\"Don Valley Village\", 43.78329369, -79.35364413, 2155.0, 5256.25, 1.25, 397.5, 1438.75, 120.0, 247.5, 2.5, 398010.25, 1246.25, 1117.75], [\"Dorset Park\", 43.75927437, -79.27890794, 2106.25, 3743.75, 0.0, 326.25, 1318.75, 405.0, 413.75, 3.75, 262000.25, 1152.25, 953.5], [\"Dovercourt-Wallace Emerson-Juncti\", 43.66567693, -79.4385407, 1901.25, 1666.25, 2.5, 2683.75, 927.5, 867.5, 5661.25, 105.0, 434699.5, 1231.25, 1003.25], [\"Downsview-Roding-CFB\", 43.73329235, -79.49049735, 4328.75, 3183.75, 2.5, 893.75, 535.0, 330.0, 3415.0, 15.0, 381415.5, 1096.0, 928.0], [\"Dufferin Grove\", 43.65542833, -79.43734104, 402.5, 1235.0, 0.0, 713.75, 112.5, 296.25, 2322.5, 35.0, 457588.75, 1303.5, 1063.25], [\"East End-Danforth\", 43.68417388, -79.29935867, 1835.0, 2061.25, 2.5, 1973.75, 445.0, 460.0, 2093.75, 40.0, 478054.25, 1498.5, 970.25], [\"Edenbridge-Humber Valley\", 43.67088591, -79.52245776, 2570.0, 2071.25, 0.0, 90.0, 131.25, 43.75, 1043.75, 1.25, 796162.5, 1524.75, 1194.25], [\"Eglinton East\", 43.7409223, -79.24559804, 1637.5, 5045.0, 0.0, 108.75, 403.75, 481.25, 251.25, 6.25, 268966.5, 1103.5, 907.25], [\"Elms-Old Rexdale\", 43.72151887, -79.54898272, 1036.25, 1377.5, 0.0, 75.0, 476.25, 153.75, 50.0, 0.0, 268341.25, 1202.25, 998.5], [\"Englemount-Lawrence\", 43.72034467, -79.43740855, 2052.5, 2722.5, 0.0, 27.5, 262.5, 423.75, 2502.5, 7.5, 568936.75, 1344.25, 987.0], [\"Eringate-Centennial-West Deane\", 43.65801676, -79.58044524, 3951.25, 1742.5, 0.0, 326.25, 553.75, 93.75, 70.0, 6.25, 397781.75, 1202.75, 1103.0], [\"Etobicoke West Mall\", 43.64506262, -79.56893877, 987.5, 2772.5, 0.0, 96.25, 222.5, 45.0, 56.25, 10.0, 309412.0, 1162.25, 1071.25], [\"Flemingdon Park\", 43.71592975, -79.33264597, 5.0, 6368.75, 0.0, 182.5, 630.0, 3.75, 591.25, 0.0, 207799.0, 1199.75, 973.0], [\"Forest Hill North\", 43.70421756, -79.42814316, 1488.75, 3392.5, 0.0, 12.5, 16.25, 82.5, 402.5, 1.25, 851680.5, 1722.75, 1245.5], [\"Forest Hill South\", 43.69452576, -79.41431786, 1742.5, 2031.25, 1.25, 61.25, 45.0, 75.0, 1027.5, 3.75, 1195992.5, 1781.0, 1313.75], [\"Glenfield-Jane Heights\", 43.74563575, -79.51346532, 441.25, 3413.75, 0.0, 3538.75, 1322.5, 298.75, 923.75, 6.25, 327597.75, 1080.0, 860.5], [\"Greenwood-Coxwell\", 43.67261231, -79.32431802, 1077.5, 517.5, 1.25, 1718.75, 371.25, 275.0, 2082.5, 12.5, 387055.5, 1255.75, 910.5], [\"Guildwood\", 43.74882934, -79.19505535, 2213.75, 1082.5, 0.0, 116.25, 296.25, 122.5, 100.0, 1.25, 369373.5, 1208.25, 1084.5], [\"Henry Farm\", 43.77114414, -79.34124067, 500.0, 3558.75, 0.0, 15.0, 496.25, 11.25, 30.0, 1.25, 369958.0, 1370.75, 1178.5], [\"High Park North\", 43.65756491, -79.46630217, 1442.5, 6020.0, 0.0, 617.5, 118.75, 487.5, 1891.25, 13.75, 532497.0, 1456.75, 1183.0], [\"High Park-Swansea\", 43.64506458, -79.46787222, 2782.5, 2507.5, 1.25, 520.0, 202.5, 692.5, 3066.25, 20.0, 582977.75, 1482.75, 1129.75], [\"Highland Creek\", 43.79077477, -79.17747247, 3125.0, 1.25, 1.25, 3.75, 10.0, 470.0, 23.75, 0.0, 428838.5, 1245.0, 967.0], [\"Hillcrest Village\", 43.80298783, -79.354804, 1696.25, 1950.0, 0.0, 900.0, 1085.0, 140.0, 670.0, 0.0, 395023.0, 1115.25, 765.75], [\"Humber Heights-Westmount\", 43.6922328, -79.5224162, 1727.5, 1958.75, 1.25, 58.75, 58.75, 133.75, 153.75, 1.25, 449150.5, 1210.0, 1055.5], [\"Humber Summit\", 43.75891975, -79.55617474, 503.75, 720.0, 1.25, 2031.25, 101.25, 85.0, 375.0, 0.0, 352082.5, 1121.25, 935.5], [\"Humbermede\", 43.74342952, -79.54236712, 583.75, 1568.75, 0.0, 1333.75, 267.5, 68.75, 990.0, 1.25, 319783.75, 1158.5, 988.0], [\"Humewood-Cedarvale\", 43.69136981, -79.42768335, 1885.0, 1700.0, 0.0, 258.75, 6.25, 160.0, 2495.0, 1.25, 697085.5, 1575.75, 1094.0], [\"Ionview\", 43.73536441, -79.27247049, 1110.0, 2858.75, 0.0, 380.0, 138.75, 285.0, 205.0, 75.0, 287685.75, 1116.75, 902.25], [\"Islington-City Centre West\", 43.63346335, -79.54331654, 5206.25, 8633.75, 0.0, 127.5, 448.75, 207.5, 666.25, 5.0, 451685.25, 1338.25, 1109.25], [\"Junction Area\", 43.66788977, -79.47143987, 822.5, 348.75, 0.0, 952.5, 526.25, 563.75, 2218.75, 20.0, 433269.25, 1381.5, 1085.0], [\"Keelesdale-Eglinton West\", 43.68572747, -79.47143711, 1787.5, 511.25, 2.5, 380.0, 11.25, 385.0, 943.75, 1.25, 322774.75, 1126.25, 855.25], [\"Kennedy Park\", 43.72555572, -79.26038221, 1785.0, 2852.5, 1.25, 436.25, 122.5, 581.25, 667.5, 61.25, 287233.5, 1083.75, 805.25], [\"Kensington-Chinatown\", 43.65355413, -79.39723988, 118.75, 4041.25, 1.25, 328.75, 761.25, 135.0, 2663.75, 78.75, 440485.75, 1390.75, 1071.5], [\"Kingsview Village-The Westway\", 43.69899257, -79.54786331, 2197.5, 4758.75, 0.0, 137.5, 307.5, 148.75, 200.0, 1.25, 338344.75, 1136.5, 1046.0], [\"Kingsway South\", 43.65352043, -79.5105768, 2326.25, 576.25, 0.0, 66.25, 48.75, 20.0, 336.25, 2.5, 843234.25, 1736.75, 1622.0], [\"L'Amoreaux\", 43.79571603, -79.31408424, 1285.0, 692.5, 0.0, 548.75, 145.0, 86.25, 362.5, 2.5, 650307.75, 1448.0, 945.75], [\"Lambton Baby Point\", 43.65742013, -79.49604526, 3731.25, 6731.25, 0.0, 1032.5, 2441.25, 340.0, 645.0, 10.0, 336617.75, 1135.25, 948.0], [\"Lansing-Westgate\", 43.75427115, -79.42474772, 2447.5, 2508.75, 1.25, 42.5, 0.0, 153.75, 592.5, 12.5, 613216.5, 1588.5, 1360.25], [\"Lawrence Park North\", 43.73006017, -79.40397836, 3196.25, 201.25, 0.0, 871.25, 23.75, 177.5, 1008.75, 1.25, 759392.5, 1769.75, 1372.75], [\"Lawrence Park South\", 43.7172117, -79.40603941, 3472.5, 773.75, 0.0, 126.25, 38.75, 225.0, 966.25, 16.25, 1094027.75, 1954.0, 1372.75], [\"Leaside-Bennington\", 43.70379663, -79.36607234, 3601.25, 548.75, 0.0, 791.25, 75.0, 47.5, 1421.25, 8.75, 806471.75, 1664.25, 1250.5], [\"Little Portugal\", 43.64753593, -79.43032271, 343.75, 1097.5, 0.0, 666.25, 658.75, 212.5, 2560.0, 38.75, 540192.5, 1294.75, 1043.5], [\"Long Branch\", 43.59236169, -79.53334545, 1513.75, 960.0, 0.0, 76.25, 85.0, 216.25, 1696.25, 15.0, 385830.25, 1315.75, 993.5], [\"Malvern\", 43.80365820000001, -79.22251662, 3693.75, 2982.5, 0.0, 1317.5, 3410.0, 878.75, 552.5, 55.0, 256880.25, 1228.0, 998.75], [\"Maple Leaf\", 43.71557394, -79.48075802, 1690.0, 861.25, 2.5, 167.5, 97.5, 151.25, 595.0, 3.75, 453229.0, 1089.0, 949.25], [\"Markland Wood\", 43.63354175, -79.57343155, 1788.75, 2010.0, 0.0, 6.25, 270.0, 81.25, 108.75, 2.5, 443974.75, 1250.5, 1117.5], [\"Milliken\", 43.82069079, -79.27500892, 3910.0, 1948.75, 0.0, 550.0, 605.0, 395.0, 95.0, 22.5, 344988.25, 1101.25, 951.0], [\"Mimico\", 43.61592386, -79.50013664, 2406.25, 6996.25, 1.25, 266.25, 766.25, 407.5, 2966.25, 18.75, 393490.5, 1429.25, 1084.5], [\"Morningside\", 43.78239861, -79.20704119, 2256.25, 2105.0, 1.25, 27.5, 880.0, 255.0, 211.25, 2.5, 285013.5, 1199.25, 917.75], [\"Moss Park\", 43.65651762, -79.36729703, 110.0, 5908.75, 0.0, 167.5, 630.0, 106.25, 1973.75, 23.75, 409456.0, 1477.0, 938.5], [\"Mount Dennis\", 43.68814409, -79.49998906, 1028.75, 2238.75, 0.0, 138.75, 302.5, 176.25, 912.5, 2.5, 262308.75, 1244.75, 957.25], [\"Mount Olive-Silverstone-Jamestown\", 43.7468678, -79.58725926, 1730.0, 5916.25, 1.25, 176.25, 1033.75, 603.75, 127.5, 1.25, 253182.25, 1159.5, 955.25], [\"Mount Pleasant East\", 43.70485217, -79.38492395, 2225.0, 2008.75, 1.25, 1611.25, 146.25, 170.0, 1066.25, 97.5, 677370.25, 1665.5, 1205.75], [\"Mount Pleasant West\", 43.70443517, -79.39335955, 503.75, 13042.5, 6.25, 193.75, 237.5, 96.25, 1877.5, 21.25, 468181.75, 1566.75, 1219.75], [\"New Toronto\", 43.6005886, -79.51035809, 1601.25, 1091.25, 1.25, 205.0, 203.75, 188.75, 1763.75, 3.75, 407812.0, 1227.0, 865.5], [\"Newtonbrook East\", 43.79153579, -79.40593745, 2906.25, 2403.75, 1.25, 8.75, 35.0, 265.0, 302.5, 0.0, 559573.25, 1440.75, 1230.0], [\"Newtonbrook West\", 43.78582994, -79.43142151, 2696.25, 3677.5, 0.0, 631.25, 500.0, 273.75, 392.5, 1.25, 460568.5, 1271.0, 1139.25], [\"Niagara\", 43.63668088, -79.4124204, 52.5, 8266.25, 0.0, 142.5, 857.5, 232.5, 1683.75, 17.5, 369993.0, 1630.25, 1343.75], [\"North Riverdale\", 43.67199515, -79.35126041, 875.0, 667.5, 0.0, 1391.25, 236.25, 262.5, 1575.0, 31.25, 703063.25, 1490.75, 1134.5], [\"North St.James Town\", 43.66962341, -79.37524658, 15.0, 8233.75, 1.25, 22.5, 80.0, 17.5, 513.75, 6.25, 411455.75, 1539.75, 1015.5], [\"O'Connor-Parkview\", 43.70680049, -79.31222777, 1142.5, 3193.75, 0.0, 150.0, 206.25, 300.0, 217.5, 15.0, 298315.75, 1038.25, 785.5], [\"Oakridge\", 43.69740813, -79.27970834, 3000.0, 1600.0, 0.0, 1282.5, 31.25, 667.5, 2055.0, 21.25, 422257.5, 1221.25, 937.5], [\"Oakwood Village\", 43.68856556, -79.43978548, 3033.75, 2320.0, 1.25, 127.5, 118.75, 293.75, 1487.5, 6.25, 441202.75, 1263.25, 939.0], [\"Old East York\", 43.69678127, -79.33548836, 2313.75, 528.75, 0.0, 170.0, 0.0, 358.75, 423.75, 12.5, 443413.5, 1204.5, 993.75], [\"Palmerston-Little Italy\", 43.6591571, -79.41840873, 458.75, 263.75, 1.25, 1150.0, 298.75, 240.0, 3713.75, 66.25, 622191.75, 1390.0, 1201.5], [\"Parkwoods-Donalda\", 43.75503347, -79.33017952, 2567.5, 6465.0, 1.25, 1445.0, 1365.0, 83.75, 1157.5, 5.0, 454652.5, 1276.0, 1125.0], [\"Pelmo Park-Humberlea\", 43.7175146, -79.5282822, 1795.0, 420.0, 0.0, 321.25, 120.0, 281.25, 142.5, 5.0, 405431.25, 1096.0, 1012.0], [\"Playter Estates-Danforth\", 43.67970047, -79.35488729, 720.0, 931.25, 0.0, 652.5, 62.5, 201.25, 1000.0, 17.5, 648859.25, 1701.5, 1198.25], [\"Pleasant View\", 43.78698176, -79.33494843, 1026.25, 1467.5, 0.0, 1978.75, 272.5, 71.25, 676.25, 6.25, 373375.25, 1175.75, 1072.0], [\"Princess-Rosethorn\", 43.6660506, -79.54455929, 3298.75, 445.0, 0.0, 2.5, 41.25, 47.5, 10.0, 2.5, 765746.5, 1509.75, 1239.75], [\"Regent Park\", 43.65999214, -79.36050881, 15.0, 2506.25, 0.0, 57.5, 577.5, 8.75, 911.25, 16.25, 392578.25, 1464.75, 815.25], [\"Rexdale-Kipling\", 43.72372548, -79.56622841, 1886.25, 635.0, 0.0, 36.25, 451.25, 326.25, 552.5, 0.0, 360999.25, 1127.5, 900.5], [\"Rockcliffe-Smythe\", 43.67479045, -79.49442045, 2902.5, 3225.0, 1.25, 1081.25, 233.75, 381.25, 1043.75, 0.0, 345660.25, 1134.0, 867.5], [\"Roncesvalles\", 43.64612299, -79.44299245, 843.75, 1635.0, 10.0, 1148.75, 356.25, 390.0, 2278.75, 53.75, 508937.25, 1446.0, 1037.0], [\"Rosedale-Moore Park\", 43.68282043, -79.3796694, 2498.75, 4641.25, 0.0, 486.25, 245.0, 327.5, 1618.75, 2.5, 1093640.0, 1909.75, 1537.25], [\"Rouge\", 43.82120126, -79.18634345, 6937.5, 936.25, 0.0, 975.0, 1621.25, 732.5, 608.75, 6.25, 376286.75, 1395.25, 1130.0], [\"Runnymede-Bloor West Village\", 43.65926882, -79.48570818, 2058.75, 1.25, 0.0, 760.0, 47.5, 261.25, 683.75, 7.5, 552082.0, 1462.25, 1147.0], [\"Rustic\", 43.71160912, -79.49809147, 1168.75, 1945.0, 0.0, 198.75, 2.5, 71.25, 208.75, 3.75, 431090.5, 1032.75, 791.75], [\"Scarborough Village\", 43.73865186, -79.21681262, 1081.25, 3948.75, 0.0, 32.5, 206.25, 138.75, 320.0, 0.0, 329835.75, 1214.5, 903.75], [\"South Parkdale\", 43.63669952, -79.43933783, 337.5, 6557.5, 5.0, 243.75, 278.75, 192.5, 2968.75, 12.5, 447478.5, 1599.25, 1019.5], [\"South Riverdale\", 43.64929206, -79.33565132, 1005.0, 1012.5, 3.75, 2686.25, 1566.25, 467.5, 3823.75, 85.0, 455020.5, 1416.75, 971.0], [\"St.Andrew-Windfields\", 43.75624583, -79.37903709, 3225.0, 1670.0, 0.0, 185.0, 552.5, 97.5, 586.25, 5.0, 999107.0, 1880.25, 1384.5], [\"Steeles\", 43.81295883, -79.32120701, 3711.25, 2592.5, 1.25, 190.0, 558.75, 275.0, 257.5, 0.0, 376014.5, 1153.25, 1125.75], [\"Stonegate-Queensway\", 43.63551813, -79.50112821, 5872.5, 867.5, 0.0, 93.75, 357.5, 222.5, 2788.75, 6.25, 550432.25, 1288.0, 1041.25], [\"Tam O'Shanter-Sullivan\", 43.78012985, -79.30291871, 3168.75, 4542.5, 0.0, 170.0, 891.25, 477.5, 408.75, 10.0, 353926.5, 1105.0, 973.75], [\"Taylor-Massey\", 43.69499819, -79.29590112, 622.5, 4795.0, 0.0, 203.75, 216.25, 150.0, 218.75, 15.0, 239414.0, 1129.25, 919.25], [\"The Beaches\", 43.67104999, -79.29960129999999, 2642.5, 488.75, 1.25, 1543.75, 285.0, 461.25, 3770.0, 23.75, 666306.0, 1707.0, 1257.75], [\"Thistletown-Beaumond Heights\", 43.73798792, -79.56349102, 1682.5, 666.25, 0.0, 322.5, 52.5, 253.75, 237.5, 3.75, 375864.0, 1193.75, 938.5], [\"Thorncliffe Park\", 43.70774921, -79.34998361, 3.75, 6318.75, 0.0, 0.0, 141.25, 0.0, 187.5, 5.0, 255264.75, 1304.25, 1088.5], [\"Trinity-Bellwoods\", 43.6501763, -79.41534216, 442.5, 178.75, 0.0, 1023.75, 1027.5, 460.0, 3310.0, 168.75, 534465.75, 1373.75, 1160.0], [\"University\", 43.6625062, -79.40117975, 155.0, 830.0, 0.0, 301.25, 321.25, 146.25, 1252.5, 46.25, 618316.75, 1447.25, 1263.0], [\"Victoria Village\", 43.72848902, -79.31487383, 1256.25, 3150.0, 0.0, 315.0, 308.75, 130.0, 2002.5, 11.25, 352133.0, 1162.25, 916.25], [\"Waterfront Communities-The Island\", 43.63388036, -79.37720231, 267.5, 21913.75, 2.5, 68.75, 528.75, 31.25, 667.5, 15.0, 376863.0, 1655.5, 1438.75], [\"West Hill\", 43.76749026, -79.17667603, 3250.0, 3441.25, 0.0, 475.0, 1252.5, 576.25, 575.0, 16.25, 284647.5, 1071.5, 761.25], [\"West Humber-Clairville\", 43.7161804, -79.59635645, 4381.25, 1725.0, 0.0, 273.75, 1341.25, 1345.0, 505.0, 2.5, 343254.25, 1215.25, 986.25], [\"Westminster-Branson\", 43.77881322, -79.45241823, 846.25, 7665.0, 0.0, 642.5, 400.0, 117.5, 277.5, 12.5, 349320.25, 1319.5, 1121.5], [\"Weston\", 43.70271605, -79.51572255, 1742.5, 4387.5, 0.0, 216.25, 142.5, 193.75, 768.75, 5.0, 308007.75, 1188.75, 927.75], [\"Weston-Pellam Park\", 43.67396204, -79.46024391, 650.0, 553.75, 1.25, 1342.5, 307.5, 186.25, 1135.0, 21.25, 351802.0, 1150.25, 804.5], [\"Wexford/Maryvale\", 43.74857214, -79.29863657, 5482.5, 1810.0, 2.5, 13.75, 251.25, 1313.75, 1090.0, 10.0, 348319.25, 1092.5, 926.5], [\"Willowdale East\", 43.77060226, -79.40148379, 3533.75, 11598.75, 6.25, 63.75, 736.25, 205.0, 1378.75, 10.0, 469045.5, 1484.75, 1424.0], [\"Willowdale West\", 43.77121049, -79.4275578, 2178.75, 3253.75, 1.25, 143.75, 133.75, 251.25, 202.5, 0.0, 466134.75, 1369.75, 1149.75], [\"Willowridge-Martingrove-Richview\", 43.68364496, -79.55422105, 3647.5, 3373.75, 0.0, 531.25, 277.5, 183.75, 42.5, 0.0, 464278.0, 1181.75, 1109.75], [\"Woburn\", 43.76674024, -79.22858577, 6623.75, 8898.75, 1.25, 326.25, 241.25, 1417.5, 430.0, 7.5, 298505.75, 1112.0, 884.25], [\"Woodbine Corridor\", 43.67677292, -79.31540738, 898.75, 577.5, 0.0, 1646.25, 253.75, 161.25, 1721.25, 23.75, 445382.75, 1393.0, 909.0], [\"Woodbine-Lumsden\", 43.69410674, -79.31116353, 1938.75, 633.75, 0.0, 323.75, 21.25, 257.5, 303.75, 7.5, 369918.5, 1256.0, 906.5], [\"Wychwood\", 43.67691927, -79.42551495, 1056.25, 1236.25, 0.0, 992.5, 298.75, 325.0, 1878.75, 17.5, 565976.5, 1390.75, 1017.25], [\"Yonge-Eglinton\", 43.70468937, -79.40359017, 1468.75, 1638.75, 0.0, 470.0, 33.75, 328.75, 1385.0, 6.25, 809745.75, 1799.5, 1347.75], [\"Yonge-St.Clair\", 43.68785887, -79.39787077, 565.0, 3948.75, 0.0, 425.0, 212.5, 172.5, 1308.75, 6.25, 813220.25, 1680.75, 1369.0], [\"York University Heights\", 43.76573649, -79.48888293, 1355.0, 5165.0, 1.25, 1316.25, 662.5, 188.75, 1085.0, 33.75, 305899.5, 1116.75, 937.5], [\"Yorkdale-Glen Park\", 43.71467153, -79.45710807, 2286.25, 1347.5, 0.0, 73.75, 450.0, 377.5, 722.5, 7.5, 430861.25, 1122.5, 942.5]], \"hovertemplate\": \"<b>%{hovertext}</b><br><br>average_house_value=%{marker.color}<br>lat=%{customdata[1]}<br>lon=%{customdata[2]}<br>neighbourhood=%{customdata[0]}<br>single_detached_house=%{customdata[3]}<br>apartment_five_storeys_plus=%{customdata[4]}<br>movable_dwelling=%{customdata[5]}<br>semi_detached_house=%{customdata[6]}<br>row_house=%{customdata[7]}<br>duplex=%{customdata[8]}<br>apartment_five_storeys_less=%{customdata[9]}<br>other_house=%{customdata[10]}<br>shelter_costs_owned=%{customdata[12]}<br>shelter_costs_rented=%{customdata[13]}<extra></extra>\", \"hovertext\": [\"Agincourt North\", \"Agincourt South-Malvern West\", \"Alderwood\", \"Annex\", \"Banbury-Don Mills\", \"Bathurst Manor\", \"Bay Street Corridor\", \"Bayview Village\", \"Bayview Woods-Steeles\", \"Bedford Park-Nortown\", \"Beechborough-Greenbrook\", \"Bendale\", \"Birchcliffe-Cliffside\", \"Black Creek\", \"Blake-Jones\", \"Briar Hill-Belgravia\", \"Bridle Path-Sunnybrook-York Mills\", \"Broadview North\", \"Brookhaven-Amesbury\", \"Cabbagetown-South St.James Town\", \"Caledonia-Fairbank\", \"Casa Loma\", \"Centennial Scarborough\", \"Church-Yonge Corridor\", \"Clairlea-Birchmount\", \"Clanton Park\", \"Cliffcrest\", \"Corso Italia-Davenport\", \"Danforth\", \"Danforth-East York\", \"Don Valley Village\", \"Dorset Park\", \"Dovercourt-Wallace Emerson-Juncti\", \"Downsview-Roding-CFB\", \"Dufferin Grove\", \"East End-Danforth\", \"Edenbridge-Humber Valley\", \"Eglinton East\", \"Elms-Old Rexdale\", \"Englemount-Lawrence\", \"Eringate-Centennial-West Deane\", \"Etobicoke West Mall\", \"Flemingdon Park\", \"Forest Hill North\", \"Forest Hill South\", \"Glenfield-Jane Heights\", \"Greenwood-Coxwell\", \"Guildwood\", \"Henry Farm\", \"High Park North\", \"High Park-Swansea\", \"Highland Creek\", \"Hillcrest Village\", \"Humber Heights-Westmount\", \"Humber Summit\", \"Humbermede\", \"Humewood-Cedarvale\", \"Ionview\", \"Islington-City Centre West\", \"Junction Area\", \"Keelesdale-Eglinton West\", \"Kennedy Park\", \"Kensington-Chinatown\", \"Kingsview Village-The Westway\", \"Kingsway South\", \"L'Amoreaux\", \"Lambton Baby Point\", \"Lansing-Westgate\", \"Lawrence Park North\", \"Lawrence Park South\", \"Leaside-Bennington\", \"Little Portugal\", \"Long Branch\", \"Malvern\", \"Maple Leaf\", \"Markland Wood\", \"Milliken\", \"Mimico\", \"Morningside\", \"Moss Park\", \"Mount Dennis\", \"Mount Olive-Silverstone-Jamestown\", \"Mount Pleasant East\", \"Mount Pleasant West\", \"New Toronto\", \"Newtonbrook East\", \"Newtonbrook West\", \"Niagara\", \"North Riverdale\", \"North St.James Town\", \"O'Connor-Parkview\", \"Oakridge\", \"Oakwood Village\", \"Old East York\", \"Palmerston-Little Italy\", \"Parkwoods-Donalda\", \"Pelmo Park-Humberlea\", \"Playter Estates-Danforth\", \"Pleasant View\", \"Princess-Rosethorn\", \"Regent Park\", \"Rexdale-Kipling\", \"Rockcliffe-Smythe\", \"Roncesvalles\", \"Rosedale-Moore Park\", \"Rouge\", \"Runnymede-Bloor West Village\", \"Rustic\", \"Scarborough Village\", \"South Parkdale\", \"South Riverdale\", \"St.Andrew-Windfields\", \"Steeles\", \"Stonegate-Queensway\", \"Tam O'Shanter-Sullivan\", \"Taylor-Massey\", \"The Beaches\", \"Thistletown-Beaumond Heights\", \"Thorncliffe Park\", \"Trinity-Bellwoods\", \"University\", \"Victoria Village\", \"Waterfront Communities-The Island\", \"West Hill\", \"West Humber-Clairville\", \"Westminster-Branson\", \"Weston\", \"Weston-Pellam Park\", \"Wexford/Maryvale\", \"Willowdale East\", \"Willowdale West\", \"Willowridge-Martingrove-Richview\", \"Woburn\", \"Woodbine Corridor\", \"Woodbine-Lumsden\", \"Wychwood\", \"Yonge-Eglinton\", \"Yonge-St.Clair\", \"York University Heights\", \"Yorkdale-Glen Park\"], \"lat\": [43.80544058, 43.78865755, 43.6049369, 43.67158544, 43.737657, 43.76481331, 43.65751135, 43.77636052, 43.79680187, 43.73148623, 43.69321649, 43.76036631, 43.69468198, 43.76489025, 43.67617288, 43.69902438, 43.73101314, 43.68882512, 43.70132631, 43.66764773, 43.68856865, 43.6818521, 43.7823765, 43.65964886, 43.71359238, 43.74197843, 43.72112117, 43.67766091, 43.68402547, 43.68946809, 43.78329369, 43.75927437, 43.66567693, 43.73329235, 43.65542833, 43.68417388, 43.67088591, 43.7409223, 43.72151887, 43.72034467, 43.65801676, 43.64506262, 43.71592975, 43.70421756, 43.69452576, 43.74563575, 43.67261231, 43.74882934, 43.77114414, 43.65756491, 43.64506458, 43.79077477, 43.80298783, 43.6922328, 43.75891975, 43.74342952, 43.69136981, 43.73536441, 43.63346335, 43.66788977, 43.68572747, 43.72555572, 43.65355413, 43.69899257, 43.65352043, 43.79571603, 43.65742013, 43.75427115, 43.73006017, 43.7172117, 43.70379663, 43.64753593, 43.59236169, 43.80365820000001, 43.71557394, 43.63354175, 43.82069079, 43.61592386, 43.78239861, 43.65651762, 43.68814409, 43.7468678, 43.70485217, 43.70443517, 43.6005886, 43.79153579, 43.78582994, 43.63668088, 43.67199515, 43.66962341, 43.70680049, 43.69740813, 43.68856556, 43.69678127, 43.6591571, 43.75503347, 43.7175146, 43.67970047, 43.78698176, 43.6660506, 43.65999214, 43.72372548, 43.67479045, 43.64612299, 43.68282043, 43.82120126, 43.65926882, 43.71160912, 43.73865186, 43.63669952, 43.64929206, 43.75624583, 43.81295883, 43.63551813, 43.78012985, 43.69499819, 43.67104999, 43.73798792, 43.70774921, 43.6501763, 43.6625062, 43.72848902, 43.63388036, 43.76749026, 43.7161804, 43.77881322, 43.70271605, 43.67396204, 43.74857214, 43.77060226, 43.77121049, 43.68364496, 43.76674024, 43.67677292, 43.69410674, 43.67691927, 43.70468937, 43.68785887, 43.76573649, 43.71467153], \"legendgroup\": \"\", \"lon\": [-79.26671217, -79.2656118, -79.54161093, -79.40400062, -79.34971798, -79.45605516, -79.38572125, -79.37711686, -79.38211795, -79.42022735, -79.47947251, -79.25740037, -79.26509259, -79.52197932, -79.33739417, -79.45285129999999, -79.37890418, -79.35562951, -79.48558926, -79.36610666, -79.45521208, -79.40800665, -79.15084327, -79.37901717, -79.28138178, -79.44630258, -79.23552957, -79.44746933, -79.32981941, -79.33140338, -79.35364413, -79.27890794, -79.4385407, -79.49049735, -79.43734104, -79.29935867, -79.52245776, -79.24559804, -79.54898272, -79.43740855, -79.58044524, -79.56893877, -79.33264597, -79.42814316, -79.41431786, -79.51346532, -79.32431802, -79.19505535, -79.34124067, -79.46630217, -79.46787222, -79.17747247, -79.354804, -79.5224162, -79.55617474, -79.54236712, -79.42768335, -79.27247049, -79.54331654, -79.47143987, -79.47143711, -79.26038221, -79.39723988, -79.54786331, -79.5105768, -79.31408424, -79.49604526, -79.42474772, -79.40397836, -79.40603941, -79.36607234, -79.43032271, -79.53334545, -79.22251662, -79.48075802, -79.57343155, -79.27500892, -79.50013664, -79.20704119, -79.36729703, -79.49998906, -79.58725926, -79.38492395, -79.39335955, -79.51035809, -79.40593745, -79.43142151, -79.4124204, -79.35126041, -79.37524658, -79.31222777, -79.27970834, -79.43978548, -79.33548836, -79.41840873, -79.33017952, -79.5282822, -79.35488729, -79.33494843, -79.54455929, -79.36050881, -79.56622841, -79.49442045, -79.44299245, -79.3796694, -79.18634345, -79.48570818, -79.49809147, -79.21681262, -79.43933783, -79.33565132, -79.37903709, -79.32120701, -79.50112821, -79.30291871, -79.29590112, -79.29960129999999, -79.56349102, -79.34998361, -79.41534216, -79.40117975, -79.31487383, -79.37720231, -79.17667603, -79.59635645, -79.45241823, -79.51572255, -79.46024391, -79.29863657, -79.40148379, -79.4275578, -79.55422105, -79.22858577, -79.31540738, -79.31116353, -79.42551495, -79.40359017, -79.39787077, -79.48888293, -79.45710807], \"marker\": {\"color\": [329811.5, 334189.0, 427922.5, 746977.0, 612039.0, 501576.75, 423653.5, 539258.75, 565413.5, 930415.25, 370927.75, 301123.25, 437315.0, 260841.75, 511437.0, 365524.5, 1526485.75, 443373.25, 350943.0, 494110.5, 361714.25, 981064.25, 409862.75, 406117.5, 354555.25, 551561.25, 417422.0, 419930.5, 466943.0, 421679.25, 398010.25, 262000.25, 434699.5, 381415.5, 457588.75, 478054.25, 796162.5, 268966.5, 268341.25, 568936.75, 397781.75, 309412.0, 207799.0, 851680.5, 1195992.5, 327597.75, 387055.5, 369373.5, 369958.0, 532497.0, 582977.75, 428838.5, 395023.0, 449150.5, 352082.5, 319783.75, 697085.5, 287685.75, 451685.25, 433269.25, 322774.75, 287233.5, 440485.75, 338344.75, 843234.25, 650307.75, 336617.75, 613216.5, 759392.5, 1094027.75, 806471.75, 540192.5, 385830.25, 256880.25, 453229.0, 443974.75, 344988.25, 393490.5, 285013.5, 409456.0, 262308.75, 253182.25, 677370.25, 468181.75, 407812.0, 559573.25, 460568.5, 369993.0, 703063.25, 411455.75, 298315.75, 422257.5, 441202.75, 443413.5, 622191.75, 454652.5, 405431.25, 648859.25, 373375.25, 765746.5, 392578.25, 360999.25, 345660.25, 508937.25, 1093640.0, 376286.75, 552082.0, 431090.5, 329835.75, 447478.5, 455020.5, 999107.0, 376014.5, 550432.25, 353926.5, 239414.0, 666306.0, 375864.0, 255264.75, 534465.75, 618316.75, 352133.0, 376863.0, 284647.5, 343254.25, 349320.25, 308007.75, 351802.0, 348319.25, 469045.5, 466134.75, 464278.0, 298505.75, 445382.75, 369918.5, 565976.5, 809745.75, 813220.25, 305899.5, 430861.25], \"coloraxis\": \"coloraxis\", \"size\": [329811.5, 334189.0, 427922.5, 746977.0, 612039.0, 501576.75, 423653.5, 539258.75, 565413.5, 930415.25, 370927.75, 301123.25, 437315.0, 260841.75, 511437.0, 365524.5, 1526485.75, 443373.25, 350943.0, 494110.5, 361714.25, 981064.25, 409862.75, 406117.5, 354555.25, 551561.25, 417422.0, 419930.5, 466943.0, 421679.25, 398010.25, 262000.25, 434699.5, 381415.5, 457588.75, 478054.25, 796162.5, 268966.5, 268341.25, 568936.75, 397781.75, 309412.0, 207799.0, 851680.5, 1195992.5, 327597.75, 387055.5, 369373.5, 369958.0, 532497.0, 582977.75, 428838.5, 395023.0, 449150.5, 352082.5, 319783.75, 697085.5, 287685.75, 451685.25, 433269.25, 322774.75, 287233.5, 440485.75, 338344.75, 843234.25, 650307.75, 336617.75, 613216.5, 759392.5, 1094027.75, 806471.75, 540192.5, 385830.25, 256880.25, 453229.0, 443974.75, 344988.25, 393490.5, 285013.5, 409456.0, 262308.75, 253182.25, 677370.25, 468181.75, 407812.0, 559573.25, 460568.5, 369993.0, 703063.25, 411455.75, 298315.75, 422257.5, 441202.75, 443413.5, 622191.75, 454652.5, 405431.25, 648859.25, 373375.25, 765746.5, 392578.25, 360999.25, 345660.25, 508937.25, 1093640.0, 376286.75, 552082.0, 431090.5, 329835.75, 447478.5, 455020.5, 999107.0, 376014.5, 550432.25, 353926.5, 239414.0, 666306.0, 375864.0, 255264.75, 534465.75, 618316.75, 352133.0, 376863.0, 284647.5, 343254.25, 349320.25, 308007.75, 351802.0, 348319.25, 469045.5, 466134.75, 464278.0, 298505.75, 445382.75, 369918.5, 565976.5, 809745.75, 813220.25, 305899.5, 430861.25], \"sizemode\": \"area\", \"sizeref\": 3816.214375}, \"mode\": \"markers\", \"name\": \"\", \"showlegend\": false, \"subplot\": \"mapbox\", \"type\": \"scattermapbox\"}],\n",
       "                        {\"coloraxis\": {\"colorbar\": {\"title\": {\"text\": \"average_house_value\"}}, \"colorscale\": [[0.0, \"#0d0887\"], [0.1111111111111111, \"#46039f\"], [0.2222222222222222, \"#7201a8\"], [0.3333333333333333, \"#9c179e\"], [0.4444444444444444, \"#bd3786\"], [0.5555555555555556, \"#d8576b\"], [0.6666666666666666, \"#ed7953\"], [0.7777777777777778, \"#fb9f3a\"], [0.8888888888888888, \"#fdca26\"], [1.0, \"#f0f921\"]]}, \"legend\": {\"itemsizing\": \"constant\", \"tracegroupgap\": 0}, \"mapbox\": {\"accesstoken\": \"pk.eyJ1Ijoic2F2YWdlZGF2aWQiLCJhIjoiY2tjMmZtand6MjM2bTJzcWR5bWN4aWtxNCJ9.W9BDsW9T__lGKD5gPSNCSg\", \"center\": {\"lat\": 43.708840577642846, \"lon\": -79.4001855035}, \"domain\": {\"x\": [0.0, 1.0], \"y\": [0.0, 1.0]}, \"zoom\": 9}, \"template\": {\"data\": {\"bar\": [{\"error_x\": {\"color\": \"#2a3f5f\"}, \"error_y\": {\"color\": \"#2a3f5f\"}, \"marker\": {\"line\": {\"color\": \"#E5ECF6\", \"width\": 0.5}}, \"type\": \"bar\"}], \"barpolar\": [{\"marker\": {\"line\": {\"color\": \"#E5ECF6\", \"width\": 0.5}}, \"type\": \"barpolar\"}], \"carpet\": [{\"aaxis\": {\"endlinecolor\": \"#2a3f5f\", \"gridcolor\": \"white\", \"linecolor\": \"white\", \"minorgridcolor\": \"white\", \"startlinecolor\": \"#2a3f5f\"}, \"baxis\": {\"endlinecolor\": \"#2a3f5f\", \"gridcolor\": \"white\", \"linecolor\": \"white\", \"minorgridcolor\": \"white\", \"startlinecolor\": \"#2a3f5f\"}, \"type\": \"carpet\"}], \"choropleth\": [{\"colorbar\": {\"outlinewidth\": 0, \"ticks\": \"\"}, \"type\": \"choropleth\"}], \"contour\": [{\"colorbar\": {\"outlinewidth\": 0, \"ticks\": \"\"}, \"colorscale\": [[0.0, \"#0d0887\"], [0.1111111111111111, \"#46039f\"], [0.2222222222222222, \"#7201a8\"], [0.3333333333333333, \"#9c179e\"], [0.4444444444444444, \"#bd3786\"], [0.5555555555555556, \"#d8576b\"], [0.6666666666666666, \"#ed7953\"], [0.7777777777777778, \"#fb9f3a\"], [0.8888888888888888, \"#fdca26\"], [1.0, \"#f0f921\"]], \"type\": \"contour\"}], \"contourcarpet\": [{\"colorbar\": {\"outlinewidth\": 0, \"ticks\": \"\"}, \"type\": \"contourcarpet\"}], \"heatmap\": [{\"colorbar\": {\"outlinewidth\": 0, \"ticks\": \"\"}, \"colorscale\": [[0.0, \"#0d0887\"], [0.1111111111111111, \"#46039f\"], [0.2222222222222222, \"#7201a8\"], [0.3333333333333333, \"#9c179e\"], [0.4444444444444444, \"#bd3786\"], [0.5555555555555556, \"#d8576b\"], [0.6666666666666666, \"#ed7953\"], [0.7777777777777778, \"#fb9f3a\"], [0.8888888888888888, \"#fdca26\"], [1.0, \"#f0f921\"]], \"type\": \"heatmap\"}], \"heatmapgl\": [{\"colorbar\": {\"outlinewidth\": 0, \"ticks\": \"\"}, \"colorscale\": [[0.0, \"#0d0887\"], [0.1111111111111111, \"#46039f\"], [0.2222222222222222, \"#7201a8\"], [0.3333333333333333, \"#9c179e\"], [0.4444444444444444, \"#bd3786\"], [0.5555555555555556, \"#d8576b\"], [0.6666666666666666, \"#ed7953\"], [0.7777777777777778, \"#fb9f3a\"], [0.8888888888888888, \"#fdca26\"], [1.0, \"#f0f921\"]], \"type\": \"heatmapgl\"}], \"histogram\": [{\"marker\": {\"colorbar\": {\"outlinewidth\": 0, \"ticks\": \"\"}}, \"type\": \"histogram\"}], \"histogram2d\": [{\"colorbar\": {\"outlinewidth\": 0, \"ticks\": \"\"}, \"colorscale\": [[0.0, \"#0d0887\"], [0.1111111111111111, \"#46039f\"], [0.2222222222222222, \"#7201a8\"], [0.3333333333333333, \"#9c179e\"], [0.4444444444444444, \"#bd3786\"], [0.5555555555555556, \"#d8576b\"], [0.6666666666666666, \"#ed7953\"], [0.7777777777777778, \"#fb9f3a\"], [0.8888888888888888, \"#fdca26\"], [1.0, \"#f0f921\"]], \"type\": \"histogram2d\"}], \"histogram2dcontour\": [{\"colorbar\": {\"outlinewidth\": 0, \"ticks\": \"\"}, \"colorscale\": [[0.0, \"#0d0887\"], [0.1111111111111111, \"#46039f\"], [0.2222222222222222, \"#7201a8\"], [0.3333333333333333, \"#9c179e\"], [0.4444444444444444, \"#bd3786\"], [0.5555555555555556, \"#d8576b\"], [0.6666666666666666, \"#ed7953\"], [0.7777777777777778, \"#fb9f3a\"], [0.8888888888888888, \"#fdca26\"], [1.0, \"#f0f921\"]], \"type\": \"histogram2dcontour\"}], \"mesh3d\": [{\"colorbar\": {\"outlinewidth\": 0, \"ticks\": \"\"}, \"type\": \"mesh3d\"}], \"parcoords\": [{\"line\": {\"colorbar\": {\"outlinewidth\": 0, \"ticks\": \"\"}}, \"type\": \"parcoords\"}], \"pie\": [{\"automargin\": true, \"type\": \"pie\"}], \"scatter\": [{\"marker\": {\"colorbar\": {\"outlinewidth\": 0, \"ticks\": \"\"}}, \"type\": \"scatter\"}], \"scatter3d\": [{\"line\": {\"colorbar\": {\"outlinewidth\": 0, \"ticks\": \"\"}}, \"marker\": {\"colorbar\": {\"outlinewidth\": 0, \"ticks\": \"\"}}, \"type\": \"scatter3d\"}], \"scattercarpet\": [{\"marker\": {\"colorbar\": {\"outlinewidth\": 0, \"ticks\": \"\"}}, \"type\": \"scattercarpet\"}], \"scattergeo\": [{\"marker\": {\"colorbar\": {\"outlinewidth\": 0, \"ticks\": \"\"}}, \"type\": \"scattergeo\"}], \"scattergl\": [{\"marker\": {\"colorbar\": {\"outlinewidth\": 0, \"ticks\": \"\"}}, \"type\": \"scattergl\"}], \"scattermapbox\": [{\"marker\": {\"colorbar\": {\"outlinewidth\": 0, \"ticks\": \"\"}}, \"type\": \"scattermapbox\"}], \"scatterpolar\": [{\"marker\": {\"colorbar\": {\"outlinewidth\": 0, \"ticks\": \"\"}}, \"type\": \"scatterpolar\"}], \"scatterpolargl\": [{\"marker\": {\"colorbar\": {\"outlinewidth\": 0, \"ticks\": \"\"}}, \"type\": \"scatterpolargl\"}], \"scatterternary\": [{\"marker\": {\"colorbar\": {\"outlinewidth\": 0, \"ticks\": \"\"}}, \"type\": \"scatterternary\"}], \"surface\": [{\"colorbar\": {\"outlinewidth\": 0, \"ticks\": \"\"}, \"colorscale\": [[0.0, \"#0d0887\"], [0.1111111111111111, \"#46039f\"], [0.2222222222222222, \"#7201a8\"], [0.3333333333333333, \"#9c179e\"], [0.4444444444444444, \"#bd3786\"], [0.5555555555555556, \"#d8576b\"], [0.6666666666666666, \"#ed7953\"], [0.7777777777777778, \"#fb9f3a\"], [0.8888888888888888, \"#fdca26\"], [1.0, \"#f0f921\"]], \"type\": \"surface\"}], \"table\": [{\"cells\": {\"fill\": {\"color\": \"#EBF0F8\"}, \"line\": {\"color\": \"white\"}}, \"header\": {\"fill\": {\"color\": \"#C8D4E3\"}, \"line\": {\"color\": \"white\"}}, \"type\": \"table\"}]}, \"layout\": {\"annotationdefaults\": {\"arrowcolor\": \"#2a3f5f\", \"arrowhead\": 0, \"arrowwidth\": 1}, \"coloraxis\": {\"colorbar\": {\"outlinewidth\": 0, \"ticks\": \"\"}}, \"colorscale\": {\"diverging\": [[0, \"#8e0152\"], [0.1, \"#c51b7d\"], [0.2, \"#de77ae\"], [0.3, \"#f1b6da\"], [0.4, \"#fde0ef\"], [0.5, \"#f7f7f7\"], [0.6, \"#e6f5d0\"], [0.7, \"#b8e186\"], [0.8, \"#7fbc41\"], [0.9, \"#4d9221\"], [1, \"#276419\"]], \"sequential\": [[0.0, \"#0d0887\"], [0.1111111111111111, \"#46039f\"], [0.2222222222222222, \"#7201a8\"], [0.3333333333333333, \"#9c179e\"], [0.4444444444444444, \"#bd3786\"], [0.5555555555555556, \"#d8576b\"], [0.6666666666666666, \"#ed7953\"], [0.7777777777777778, \"#fb9f3a\"], [0.8888888888888888, \"#fdca26\"], [1.0, \"#f0f921\"]], \"sequentialminus\": [[0.0, \"#0d0887\"], [0.1111111111111111, \"#46039f\"], [0.2222222222222222, \"#7201a8\"], [0.3333333333333333, \"#9c179e\"], [0.4444444444444444, \"#bd3786\"], [0.5555555555555556, \"#d8576b\"], [0.6666666666666666, \"#ed7953\"], [0.7777777777777778, \"#fb9f3a\"], [0.8888888888888888, \"#fdca26\"], [1.0, \"#f0f921\"]]}, \"colorway\": [\"#636efa\", \"#EF553B\", \"#00cc96\", \"#ab63fa\", \"#FFA15A\", \"#19d3f3\", \"#FF6692\", \"#B6E880\", \"#FF97FF\", \"#FECB52\"], \"font\": {\"color\": \"#2a3f5f\"}, \"geo\": {\"bgcolor\": \"white\", \"lakecolor\": \"white\", \"landcolor\": \"#E5ECF6\", \"showlakes\": true, \"showland\": true, \"subunitcolor\": \"white\"}, \"hoverlabel\": {\"align\": \"left\"}, \"hovermode\": \"closest\", \"mapbox\": {\"style\": \"light\"}, \"paper_bgcolor\": \"white\", \"plot_bgcolor\": \"#E5ECF6\", \"polar\": {\"angularaxis\": {\"gridcolor\": \"white\", \"linecolor\": \"white\", \"ticks\": \"\"}, \"bgcolor\": \"#E5ECF6\", \"radialaxis\": {\"gridcolor\": \"white\", \"linecolor\": \"white\", \"ticks\": \"\"}}, \"scene\": {\"xaxis\": {\"backgroundcolor\": \"#E5ECF6\", \"gridcolor\": \"white\", \"gridwidth\": 2, \"linecolor\": \"white\", \"showbackground\": true, \"ticks\": \"\", \"zerolinecolor\": \"white\"}, \"yaxis\": {\"backgroundcolor\": \"#E5ECF6\", \"gridcolor\": \"white\", \"gridwidth\": 2, \"linecolor\": \"white\", \"showbackground\": true, \"ticks\": \"\", \"zerolinecolor\": \"white\"}, \"zaxis\": {\"backgroundcolor\": \"#E5ECF6\", \"gridcolor\": \"white\", \"gridwidth\": 2, \"linecolor\": \"white\", \"showbackground\": true, \"ticks\": \"\", \"zerolinecolor\": \"white\"}}, \"shapedefaults\": {\"line\": {\"color\": \"#2a3f5f\"}}, \"ternary\": {\"aaxis\": {\"gridcolor\": \"white\", \"linecolor\": \"white\", \"ticks\": \"\"}, \"baxis\": {\"gridcolor\": \"white\", \"linecolor\": \"white\", \"ticks\": \"\"}, \"bgcolor\": \"#E5ECF6\", \"caxis\": {\"gridcolor\": \"white\", \"linecolor\": \"white\", \"ticks\": \"\"}}, \"title\": {\"x\": 0.05}, \"xaxis\": {\"automargin\": true, \"gridcolor\": \"white\", \"linecolor\": \"white\", \"ticks\": \"\", \"title\": {\"standoff\": 15}, \"zerolinecolor\": \"white\", \"zerolinewidth\": 2}, \"yaxis\": {\"automargin\": true, \"gridcolor\": \"white\", \"linecolor\": \"white\", \"ticks\": \"\", \"title\": {\"standoff\": 15}, \"zerolinecolor\": \"white\", \"zerolinewidth\": 2}}}, \"title\": {\"text\": \"Average House Values in Toronto\"}},\n",
       "                        {\"responsive\": true}\n",
       "                    ).then(function(){\n",
       "                            \n",
       "var gd = document.getElementById('c44084d8-d4fd-439e-89d3-3da68eec6cea');\n",
       "var x = new MutationObserver(function (mutations, observer) {{\n",
       "        var display = window.getComputedStyle(gd).display;\n",
       "        if (!display || display === 'none') {{\n",
       "            console.log([gd, 'removed!']);\n",
       "            Plotly.purge(gd);\n",
       "            observer.disconnect();\n",
       "        }}\n",
       "}});\n",
       "\n",
       "// Listen for the removal of the full notebook cells\n",
       "var notebookContainer = gd.closest('#notebook-container');\n",
       "if (notebookContainer) {{\n",
       "    x.observe(notebookContainer, {childList: true});\n",
       "}}\n",
       "\n",
       "// Listen for the clearing of the current output cell\n",
       "var outputEl = gd.closest('.output');\n",
       "if (outputEl) {{\n",
       "    x.observe(outputEl, {childList: true});\n",
       "}}\n",
       "\n",
       "                        })\n",
       "                };\n",
       "                });\n",
       "            </script>\n",
       "        </div>"
      ]
     },
     "metadata": {},
     "output_type": "display_data"
    },
    {
     "ename": "AttributeError",
     "evalue": "'NoneType' object has no attribute 'show'",
     "output_type": "error",
     "traceback": [
      "\u001b[1;31m---------------------------------------------------------------------------\u001b[0m",
      "\u001b[1;31mAttributeError\u001b[0m                            Traceback (most recent call last)",
      "\u001b[1;32m<ipython-input-29-2d247bbc4078>\u001b[0m in \u001b[0;36m<module>\u001b[1;34m\u001b[0m\n\u001b[1;32m----> 1\u001b[1;33m \u001b[0mneighbourhood_map\u001b[0m\u001b[1;33m(\u001b[0m\u001b[1;33m)\u001b[0m\u001b[1;33m.\u001b[0m\u001b[0mshow\u001b[0m\u001b[1;33m(\u001b[0m\u001b[1;33m)\u001b[0m\u001b[1;33m\u001b[0m\u001b[1;33m\u001b[0m\u001b[0m\n\u001b[0m",
      "\u001b[1;31mAttributeError\u001b[0m: 'NoneType' object has no attribute 'show'"
     ]
    }
   ],
   "source": [
    "neighbourhood_map().show()"
   ]
  },
  {
   "cell_type": "code",
   "execution_count": 32,
   "metadata": {},
   "outputs": [
    {
     "data": {
      "image/png": "[encoded data removed]",
      "text/plain": [
       "<Figure size 720x360 with 1 Axes>"
      ]
     },
     "metadata": {
      "needs_background": "light"
     },
     "output_type": "display_data"
    },
    {
     "data": {
      "image/png": "[encoded data removed]",
      "text/plain": [
       "<Figure size 720x360 with 1 Axes>"
      ]
     },
     "metadata": {
      "needs_background": "light"
     },
     "output_type": "display_data"
    },
    {
     "data": {
      "image/png": "[encoded data removed]",
      "text/plain": [
       "<Figure size 720x360 with 1 Axes>"
      ]
     },
     "metadata": {
      "needs_background": "light"
     },
     "output_type": "display_data"
    },
    {
     "data": {
      "image/png": "[encoded data removed]",
      "text/plain": [
       "<Figure size 720x360 with 1 Axes>"
      ]
     },
     "metadata": {
      "needs_background": "light"
     },
     "output_type": "display_data"
    }
   ],
   "source": [
    "#create_bar_chart(data, title, xlabel, ylabel, color)\n",
    "\n",
    "# # Bar chart for 2001\n",
    "create_bar_chart(to_data_year.iloc[0], \n",
    "                 \"Dwelling Types in Toronto in 2001\", \n",
    "                 \"Dwelling Types in Toronto\", \n",
    "                 \"Dwelling Type Units\",\n",
    "                 \"red\")\n",
    "# # Bar chart for 2006\n",
    "create_bar_chart(to_data_year.iloc[1], \n",
    "                 \"Dwelling Types in Toronto in 2006\", \n",
    "                 \"Dwelling Types in Toronto\", \n",
    "                 \"Dwelling Type Units\",\n",
    "                 \"blue\")\n",
    "# # Bar chart for 2011\n",
    "create_bar_chart(to_data_year.iloc[2], \n",
    "                 \"Dwelling Types in Toronto in 2011\", \n",
    "                 \"Dwelling Types in Toronto\", \n",
    "                 \"Dwelling Type Units\",\n",
    "                 \"gold\")\n",
    "# # Bar chart for 2016\n",
    "create_bar_chart(to_data_year.iloc[3], \n",
    "                 \"Dwelling Types in Toronto in 2016\", \n",
    "                 \"Dwelling Types in Toronto\", \n",
    "                 \"Dwelling Type Units\",\n",
    "                 \"violet\")"
   ]
  },
  {
   "cell_type": "code",
   "execution_count": 33,
   "metadata": {},
   "outputs": [
    {
     "data": {
      "image/png": "[encoded data removed]",
      "text/plain": [
       "<Figure size 1440x720 with 1 Axes>"
      ]
     },
     "metadata": {
      "needs_background": "light"
     },
     "output_type": "display_data"
    },
    {
     "data": {
      "image/png": "[encoded data removed]",
      "text/plain": [
       "<Figure size 1440x720 with 1 Axes>"
      ]
     },
     "metadata": {
      "needs_background": "light"
     },
     "output_type": "display_data"
    }
   ],
   "source": [
    "# create_line_chart(data, title, xlabel, ylabel, color)\n",
    "# Line chart for owned dwellings\n",
    "create_line_chart(to_data_shelter_costs.iloc[0:,0],\n",
    "                  \"Average Monthly Shelter Cost for Owned Dwellings in Toronto\",\n",
    "                  \"Year\", \n",
    "                  \"Avg Monthly Shelter Costs\",\n",
    "                  \"blue\")\n",
    "\n",
    "# Line chart for rented dwellings\n",
    "create_line_chart(to_data_shelter_costs.iloc[0:,1],\n",
    "                  \"Average Monthly Shelter Cost for Rented Dwellings in Toronto\",\n",
    "                  \"Year\", \n",
    "                  \"Avg Monthly Shelter Costs\",\n",
    "                  \"orange\")"
   ]
  },
  {
   "cell_type": "code",
   "execution_count": 11,
   "metadata": {},
   "outputs": [
    {
     "ename": "NameError",
     "evalue": "name 'to_data_avg_value' is not defined",
     "output_type": "error",
     "traceback": [
      "\u001b[1;31m---------------------------------------------------------------------------\u001b[0m",
      "\u001b[1;31mNameError\u001b[0m                                 Traceback (most recent call last)",
      "\u001b[1;32m<ipython-input-11-81b7aca6f58d>\u001b[0m in \u001b[0;36m<module>\u001b[1;34m\u001b[0m\n\u001b[1;32m----> 1\u001b[1;33m \u001b[0maverage_house_value\u001b[0m\u001b[1;33m(\u001b[0m\u001b[1;33m)\u001b[0m\u001b[1;33m\u001b[0m\u001b[1;33m\u001b[0m\u001b[0m\n\u001b[0m",
      "\u001b[1;32m<ipython-input-6-9dc8070c1339>\u001b[0m in \u001b[0;36maverage_house_value\u001b[1;34m()\u001b[0m\n\u001b[0;32m     36\u001b[0m \u001b[1;32mdef\u001b[0m \u001b[0maverage_house_value\u001b[0m\u001b[1;33m(\u001b[0m\u001b[1;33m)\u001b[0m\u001b[1;33m:\u001b[0m\u001b[1;33m\u001b[0m\u001b[1;33m\u001b[0m\u001b[0m\n\u001b[0;32m     37\u001b[0m     \u001b[0mplt\u001b[0m\u001b[1;33m.\u001b[0m\u001b[0msubplots\u001b[0m\u001b[1;33m(\u001b[0m\u001b[0mfigsize\u001b[0m\u001b[1;33m=\u001b[0m\u001b[1;33m(\u001b[0m\u001b[1;36m20\u001b[0m\u001b[1;33m,\u001b[0m\u001b[1;36m10\u001b[0m\u001b[1;33m)\u001b[0m\u001b[1;33m)\u001b[0m\u001b[1;33m\u001b[0m\u001b[1;33m\u001b[0m\u001b[0m\n\u001b[1;32m---> 38\u001b[1;33m     \u001b[0mplt\u001b[0m\u001b[1;33m.\u001b[0m\u001b[0mplot\u001b[0m\u001b[1;33m(\u001b[0m\u001b[0mto_data_avg_value\u001b[0m\u001b[1;33m.\u001b[0m\u001b[0miloc\u001b[0m\u001b[1;33m[\u001b[0m\u001b[1;36m0\u001b[0m\u001b[1;33m:\u001b[0m\u001b[1;33m,\u001b[0m\u001b[1;36m3\u001b[0m\u001b[1;33m]\u001b[0m\u001b[1;33m,\u001b[0m \u001b[0mcolor\u001b[0m\u001b[1;33m=\u001b[0m\u001b[1;34m\"blue\"\u001b[0m\u001b[1;33m)\u001b[0m\u001b[1;33m\u001b[0m\u001b[1;33m\u001b[0m\u001b[0m\n\u001b[0m\u001b[0;32m     39\u001b[0m     \u001b[0mplt\u001b[0m\u001b[1;33m.\u001b[0m\u001b[0mxlabel\u001b[0m\u001b[1;33m(\u001b[0m\u001b[1;34m\"Year\"\u001b[0m\u001b[1;33m)\u001b[0m\u001b[1;33m\u001b[0m\u001b[1;33m\u001b[0m\u001b[0m\n\u001b[0;32m     40\u001b[0m     \u001b[0mplt\u001b[0m\u001b[1;33m.\u001b[0m\u001b[0mylabel\u001b[0m\u001b[1;33m(\u001b[0m\u001b[1;34m\"Avg House Value\"\u001b[0m\u001b[1;33m)\u001b[0m\u001b[1;33m\u001b[0m\u001b[1;33m\u001b[0m\u001b[0m\n",
      "\u001b[1;31mNameError\u001b[0m: name 'to_data_avg_value' is not defined"
     ]
    },
    {
     "data": {
      "image/png": "[encoded data removed]",
      "text/plain": [
       "<Figure size 1440x720 with 1 Axes>"
      ]
     },
     "metadata": {
      "needs_background": "light"
     },
     "output_type": "display_data"
    }
   ],
   "source": [
    "average_house_value()"
   ]
  },
  {
   "cell_type": "code",
   "execution_count": 37,
   "metadata": {},
   "outputs": [
    {
     "name": "stdout",
     "output_type": "stream",
     "text": [
      "None\n"
     ]
    }
   ],
   "source": [
    "print(average_value_by_neighbourhood())"
   ]
  },
  {
   "cell_type": "code",
   "execution_count": 38,
   "metadata": {},
   "outputs": [],
   "source": [
    "number_dwelling_types()"
   ]
  },
  {
   "cell_type": "code",
   "execution_count": 39,
   "metadata": {},
   "outputs": [],
   "source": [
    "average_house_value_snapshot()"
   ]
  },
  {
   "cell_type": "code",
   "execution_count": 40,
   "metadata": {},
   "outputs": [],
   "source": [
    "top_most_expensive_neighbourhoods()"
   ]
  },
  {
   "cell_type": "code",
   "execution_count": 17,
   "metadata": {},
   "outputs": [],
   "source": [
    "# sunburts_cost_analysis()"
   ]
  }
 ],
 "metadata": {
  "file_extension": ".py",
  "kernelspec": {
   "display_name": "Python 3",
   "language": "python",
   "name": "python3"
  },
  "language_info": {
   "codemirror_mode": {
    "name": "ipython",
    "version": 3
   },
   "file_extension": ".py",
   "mimetype": "text/x-python",
   "name": "python",
   "nbconvert_exporter": "python",
   "pygments_lexer": "ipython3",
   "version": "3.7.7"
  },
  "mimetype": "text/x-python",
  "name": "python",
  "npconvert_exporter": "python",
  "pygments_lexer": "ipython3",
  "version": 3
 },
 "nbformat": 4,
 "nbformat_minor": 4
}
